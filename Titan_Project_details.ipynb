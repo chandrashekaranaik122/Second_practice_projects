{
 "cells": [
  {
   "cell_type": "markdown",
   "id": "9a09e7a2",
   "metadata": {},
   "source": [
    "# Titanic Dataset"
   ]
  },
  {
   "cell_type": "code",
   "execution_count": 1,
   "id": "71ef0c9b",
   "metadata": {},
   "outputs": [],
   "source": [
    "import pandas as pd\n",
    "import numpy as np\n",
    "import seaborn as sns \n",
    "import matplotlib.pyplot as plt\n",
    "import warnings\n",
    "warnings.filterwarnings('ignore')"
   ]
  },
  {
   "cell_type": "markdown",
   "id": "ab91b55e",
   "metadata": {},
   "source": [
    "importing all the nessasary lybraries such as pandas,numpy,matplot,seaborn and warnings also "
   ]
  },
  {
   "cell_type": "code",
   "execution_count": 5,
   "id": "7b0006be",
   "metadata": {},
   "outputs": [
    {
     "data": {
      "text/html": [
       "<div>\n",
       "<style scoped>\n",
       "    .dataframe tbody tr th:only-of-type {\n",
       "        vertical-align: middle;\n",
       "    }\n",
       "\n",
       "    .dataframe tbody tr th {\n",
       "        vertical-align: top;\n",
       "    }\n",
       "\n",
       "    .dataframe thead th {\n",
       "        text-align: right;\n",
       "    }\n",
       "</style>\n",
       "<table border=\"1\" class=\"dataframe\">\n",
       "  <thead>\n",
       "    <tr style=\"text-align: right;\">\n",
       "      <th></th>\n",
       "      <th>PassengerId</th>\n",
       "      <th>Survived</th>\n",
       "      <th>Pclass</th>\n",
       "      <th>Name</th>\n",
       "      <th>Sex</th>\n",
       "      <th>Age</th>\n",
       "      <th>SibSp</th>\n",
       "      <th>Parch</th>\n",
       "      <th>Ticket</th>\n",
       "      <th>Fare</th>\n",
       "      <th>Cabin</th>\n",
       "      <th>Embarked</th>\n",
       "    </tr>\n",
       "  </thead>\n",
       "  <tbody>\n",
       "    <tr>\n",
       "      <th>0</th>\n",
       "      <td>1</td>\n",
       "      <td>0</td>\n",
       "      <td>3</td>\n",
       "      <td>Braund, Mr. Owen Harris</td>\n",
       "      <td>male</td>\n",
       "      <td>22.0</td>\n",
       "      <td>1</td>\n",
       "      <td>0</td>\n",
       "      <td>A/5 21171</td>\n",
       "      <td>7.2500</td>\n",
       "      <td>NaN</td>\n",
       "      <td>S</td>\n",
       "    </tr>\n",
       "    <tr>\n",
       "      <th>1</th>\n",
       "      <td>2</td>\n",
       "      <td>1</td>\n",
       "      <td>1</td>\n",
       "      <td>Cumings, Mrs. John Bradley (Florence Briggs Th...</td>\n",
       "      <td>female</td>\n",
       "      <td>38.0</td>\n",
       "      <td>1</td>\n",
       "      <td>0</td>\n",
       "      <td>PC 17599</td>\n",
       "      <td>71.2833</td>\n",
       "      <td>C85</td>\n",
       "      <td>C</td>\n",
       "    </tr>\n",
       "    <tr>\n",
       "      <th>2</th>\n",
       "      <td>3</td>\n",
       "      <td>1</td>\n",
       "      <td>3</td>\n",
       "      <td>Heikkinen, Miss. Laina</td>\n",
       "      <td>female</td>\n",
       "      <td>26.0</td>\n",
       "      <td>0</td>\n",
       "      <td>0</td>\n",
       "      <td>STON/O2. 3101282</td>\n",
       "      <td>7.9250</td>\n",
       "      <td>NaN</td>\n",
       "      <td>S</td>\n",
       "    </tr>\n",
       "    <tr>\n",
       "      <th>3</th>\n",
       "      <td>4</td>\n",
       "      <td>1</td>\n",
       "      <td>1</td>\n",
       "      <td>Futrelle, Mrs. Jacques Heath (Lily May Peel)</td>\n",
       "      <td>female</td>\n",
       "      <td>35.0</td>\n",
       "      <td>1</td>\n",
       "      <td>0</td>\n",
       "      <td>113803</td>\n",
       "      <td>53.1000</td>\n",
       "      <td>C123</td>\n",
       "      <td>S</td>\n",
       "    </tr>\n",
       "    <tr>\n",
       "      <th>4</th>\n",
       "      <td>5</td>\n",
       "      <td>0</td>\n",
       "      <td>3</td>\n",
       "      <td>Allen, Mr. William Henry</td>\n",
       "      <td>male</td>\n",
       "      <td>35.0</td>\n",
       "      <td>0</td>\n",
       "      <td>0</td>\n",
       "      <td>373450</td>\n",
       "      <td>8.0500</td>\n",
       "      <td>NaN</td>\n",
       "      <td>S</td>\n",
       "    </tr>\n",
       "    <tr>\n",
       "      <th>...</th>\n",
       "      <td>...</td>\n",
       "      <td>...</td>\n",
       "      <td>...</td>\n",
       "      <td>...</td>\n",
       "      <td>...</td>\n",
       "      <td>...</td>\n",
       "      <td>...</td>\n",
       "      <td>...</td>\n",
       "      <td>...</td>\n",
       "      <td>...</td>\n",
       "      <td>...</td>\n",
       "      <td>...</td>\n",
       "    </tr>\n",
       "    <tr>\n",
       "      <th>886</th>\n",
       "      <td>887</td>\n",
       "      <td>0</td>\n",
       "      <td>2</td>\n",
       "      <td>Montvila, Rev. Juozas</td>\n",
       "      <td>male</td>\n",
       "      <td>27.0</td>\n",
       "      <td>0</td>\n",
       "      <td>0</td>\n",
       "      <td>211536</td>\n",
       "      <td>13.0000</td>\n",
       "      <td>NaN</td>\n",
       "      <td>S</td>\n",
       "    </tr>\n",
       "    <tr>\n",
       "      <th>887</th>\n",
       "      <td>888</td>\n",
       "      <td>1</td>\n",
       "      <td>1</td>\n",
       "      <td>Graham, Miss. Margaret Edith</td>\n",
       "      <td>female</td>\n",
       "      <td>19.0</td>\n",
       "      <td>0</td>\n",
       "      <td>0</td>\n",
       "      <td>112053</td>\n",
       "      <td>30.0000</td>\n",
       "      <td>B42</td>\n",
       "      <td>S</td>\n",
       "    </tr>\n",
       "    <tr>\n",
       "      <th>888</th>\n",
       "      <td>889</td>\n",
       "      <td>0</td>\n",
       "      <td>3</td>\n",
       "      <td>Johnston, Miss. Catherine Helen \"Carrie\"</td>\n",
       "      <td>female</td>\n",
       "      <td>NaN</td>\n",
       "      <td>1</td>\n",
       "      <td>2</td>\n",
       "      <td>W./C. 6607</td>\n",
       "      <td>23.4500</td>\n",
       "      <td>NaN</td>\n",
       "      <td>S</td>\n",
       "    </tr>\n",
       "    <tr>\n",
       "      <th>889</th>\n",
       "      <td>890</td>\n",
       "      <td>1</td>\n",
       "      <td>1</td>\n",
       "      <td>Behr, Mr. Karl Howell</td>\n",
       "      <td>male</td>\n",
       "      <td>26.0</td>\n",
       "      <td>0</td>\n",
       "      <td>0</td>\n",
       "      <td>111369</td>\n",
       "      <td>30.0000</td>\n",
       "      <td>C148</td>\n",
       "      <td>C</td>\n",
       "    </tr>\n",
       "    <tr>\n",
       "      <th>890</th>\n",
       "      <td>891</td>\n",
       "      <td>0</td>\n",
       "      <td>3</td>\n",
       "      <td>Dooley, Mr. Patrick</td>\n",
       "      <td>male</td>\n",
       "      <td>32.0</td>\n",
       "      <td>0</td>\n",
       "      <td>0</td>\n",
       "      <td>370376</td>\n",
       "      <td>7.7500</td>\n",
       "      <td>NaN</td>\n",
       "      <td>Q</td>\n",
       "    </tr>\n",
       "  </tbody>\n",
       "</table>\n",
       "<p>891 rows × 12 columns</p>\n",
       "</div>"
      ],
      "text/plain": [
       "     PassengerId  Survived  Pclass  \\\n",
       "0              1         0       3   \n",
       "1              2         1       1   \n",
       "2              3         1       3   \n",
       "3              4         1       1   \n",
       "4              5         0       3   \n",
       "..           ...       ...     ...   \n",
       "886          887         0       2   \n",
       "887          888         1       1   \n",
       "888          889         0       3   \n",
       "889          890         1       1   \n",
       "890          891         0       3   \n",
       "\n",
       "                                                  Name     Sex   Age  SibSp  \\\n",
       "0                              Braund, Mr. Owen Harris    male  22.0      1   \n",
       "1    Cumings, Mrs. John Bradley (Florence Briggs Th...  female  38.0      1   \n",
       "2                               Heikkinen, Miss. Laina  female  26.0      0   \n",
       "3         Futrelle, Mrs. Jacques Heath (Lily May Peel)  female  35.0      1   \n",
       "4                             Allen, Mr. William Henry    male  35.0      0   \n",
       "..                                                 ...     ...   ...    ...   \n",
       "886                              Montvila, Rev. Juozas    male  27.0      0   \n",
       "887                       Graham, Miss. Margaret Edith  female  19.0      0   \n",
       "888           Johnston, Miss. Catherine Helen \"Carrie\"  female   NaN      1   \n",
       "889                              Behr, Mr. Karl Howell    male  26.0      0   \n",
       "890                                Dooley, Mr. Patrick    male  32.0      0   \n",
       "\n",
       "     Parch            Ticket     Fare Cabin Embarked  \n",
       "0        0         A/5 21171   7.2500   NaN        S  \n",
       "1        0          PC 17599  71.2833   C85        C  \n",
       "2        0  STON/O2. 3101282   7.9250   NaN        S  \n",
       "3        0            113803  53.1000  C123        S  \n",
       "4        0            373450   8.0500   NaN        S  \n",
       "..     ...               ...      ...   ...      ...  \n",
       "886      0            211536  13.0000   NaN        S  \n",
       "887      0            112053  30.0000   B42        S  \n",
       "888      2        W./C. 6607  23.4500   NaN        S  \n",
       "889      0            111369  30.0000  C148        C  \n",
       "890      0            370376   7.7500   NaN        Q  \n",
       "\n",
       "[891 rows x 12 columns]"
      ]
     },
     "execution_count": 5,
     "metadata": {},
     "output_type": "execute_result"
    }
   ],
   "source": [
    "df=pd.read_csv('Titanic_csv')\n",
    "df"
   ]
  },
  {
   "cell_type": "markdown",
   "id": "e54f1bc9",
   "metadata": {},
   "source": [
    "Loading the dataset from my jupyter notebook , which is already saved in my jupyter notebook"
   ]
  },
  {
   "cell_type": "code",
   "execution_count": 6,
   "id": "e992faef",
   "metadata": {},
   "outputs": [
    {
     "data": {
      "text/plain": [
       "Index(['Age', 'Cabin', 'Embarked', 'Fare', 'Name', 'Parch', 'PassengerId',\n",
       "       'Pclass', 'Sex', 'SibSp', 'Survived', 'Ticket'],\n",
       "      dtype='object')"
      ]
     },
     "execution_count": 6,
     "metadata": {},
     "output_type": "execute_result"
    }
   ],
   "source": [
    "df.columns.sort_values(ascending=True)"
   ]
  },
  {
   "cell_type": "markdown",
   "id": "e5629b56",
   "metadata": {},
   "source": [
    "there are 12 columns present in the Titanic dataset"
   ]
  },
  {
   "cell_type": "code",
   "execution_count": 7,
   "id": "a35bf4df",
   "metadata": {},
   "outputs": [
    {
     "name": "stdout",
     "output_type": "stream",
     "text": [
      "<class 'pandas.core.frame.DataFrame'>\n",
      "RangeIndex: 891 entries, 0 to 890\n",
      "Data columns (total 12 columns):\n",
      " #   Column       Non-Null Count  Dtype  \n",
      "---  ------       --------------  -----  \n",
      " 0   PassengerId  891 non-null    int64  \n",
      " 1   Survived     891 non-null    int64  \n",
      " 2   Pclass       891 non-null    int64  \n",
      " 3   Name         891 non-null    object \n",
      " 4   Sex          891 non-null    object \n",
      " 5   Age          714 non-null    float64\n",
      " 6   SibSp        891 non-null    int64  \n",
      " 7   Parch        891 non-null    int64  \n",
      " 8   Ticket       891 non-null    object \n",
      " 9   Fare         891 non-null    float64\n",
      " 10  Cabin        204 non-null    object \n",
      " 11  Embarked     889 non-null    object \n",
      "dtypes: float64(2), int64(5), object(5)\n",
      "memory usage: 83.7+ KB\n"
     ]
    }
   ],
   "source": [
    "df.info()"
   ]
  },
  {
   "cell_type": "markdown",
   "id": "cf570371",
   "metadata": {},
   "source": [
    "The Titanic data having 891 rows and 12 columns\n",
    "\n",
    "*3 types of datasets are present, they are intger,float and object datatype \n",
    "\n",
    "*some columns are having null values, \n",
    "\n",
    "*Age column has 714 rows data rest null values present\n",
    "\n",
    "*Cabin column has 687 rows null values \n",
    "\n",
    "*Embarked column has 2 null values"
   ]
  },
  {
   "cell_type": "code",
   "execution_count": 8,
   "id": "db657b64",
   "metadata": {},
   "outputs": [
    {
     "data": {
      "text/plain": [
       "0    549\n",
       "1    342\n",
       "Name: Survived, dtype: int64"
      ]
     },
     "execution_count": 8,
     "metadata": {},
     "output_type": "execute_result"
    }
   ],
   "source": [
    "df['Survived'].value_counts()"
   ]
  },
  {
   "cell_type": "markdown",
   "id": "7be15b15",
   "metadata": {},
   "source": [
    "checking for value counts in the survived column \n",
    "\n",
    "there are 342 people survived and 549 not survived"
   ]
  },
  {
   "cell_type": "code",
   "execution_count": 9,
   "id": "7ecedcee",
   "metadata": {},
   "outputs": [
    {
     "name": "stdout",
     "output_type": "stream",
     "text": [
      "PassengerId \n",
      " 1      1\n",
      "599    1\n",
      "588    1\n",
      "589    1\n",
      "590    1\n",
      "      ..\n",
      "301    1\n",
      "302    1\n",
      "303    1\n",
      "304    1\n",
      "891    1\n",
      "Name: PassengerId, Length: 891, dtype: int64 \n",
      "\n",
      "Survived \n",
      " 0    549\n",
      "1    342\n",
      "Name: Survived, dtype: int64 \n",
      "\n",
      "Pclass \n",
      " 3    491\n",
      "1    216\n",
      "2    184\n",
      "Name: Pclass, dtype: int64 \n",
      "\n",
      "Name \n",
      " Braund, Mr. Owen Harris                     1\n",
      "Boulos, Mr. Hanna                           1\n",
      "Frolicher-Stehli, Mr. Maxmillian            1\n",
      "Gilinski, Mr. Eliezer                       1\n",
      "Murdlin, Mr. Joseph                         1\n",
      "                                           ..\n",
      "Kelly, Miss. Anna Katherine \"Annie Kate\"    1\n",
      "McCoy, Mr. Bernard                          1\n",
      "Johnson, Mr. William Cahoone Jr             1\n",
      "Keane, Miss. Nora A                         1\n",
      "Dooley, Mr. Patrick                         1\n",
      "Name: Name, Length: 891, dtype: int64 \n",
      "\n",
      "Sex \n",
      " male      577\n",
      "female    314\n",
      "Name: Sex, dtype: int64 \n",
      "\n",
      "Age \n",
      " 24.00    30\n",
      "22.00    27\n",
      "18.00    26\n",
      "19.00    25\n",
      "28.00    25\n",
      "         ..\n",
      "36.50     1\n",
      "55.50     1\n",
      "0.92      1\n",
      "23.50     1\n",
      "74.00     1\n",
      "Name: Age, Length: 88, dtype: int64 \n",
      "\n",
      "SibSp \n",
      " 0    608\n",
      "1    209\n",
      "2     28\n",
      "4     18\n",
      "3     16\n",
      "8      7\n",
      "5      5\n",
      "Name: SibSp, dtype: int64 \n",
      "\n",
      "Parch \n",
      " 0    678\n",
      "1    118\n",
      "2     80\n",
      "5      5\n",
      "3      5\n",
      "4      4\n",
      "6      1\n",
      "Name: Parch, dtype: int64 \n",
      "\n",
      "Ticket \n",
      " 347082      7\n",
      "CA. 2343    7\n",
      "1601        7\n",
      "3101295     6\n",
      "CA 2144     6\n",
      "           ..\n",
      "9234        1\n",
      "19988       1\n",
      "2693        1\n",
      "PC 17612    1\n",
      "370376      1\n",
      "Name: Ticket, Length: 681, dtype: int64 \n",
      "\n",
      "Fare \n",
      " 8.0500     43\n",
      "13.0000    42\n",
      "7.8958     38\n",
      "7.7500     34\n",
      "26.0000    31\n",
      "           ..\n",
      "35.0000     1\n",
      "28.5000     1\n",
      "6.2375      1\n",
      "14.0000     1\n",
      "10.5167     1\n",
      "Name: Fare, Length: 248, dtype: int64 \n",
      "\n",
      "Cabin \n",
      " B96 B98        4\n",
      "G6             4\n",
      "C23 C25 C27    4\n",
      "C22 C26        3\n",
      "F33            3\n",
      "              ..\n",
      "E34            1\n",
      "C7             1\n",
      "C54            1\n",
      "E36            1\n",
      "C148           1\n",
      "Name: Cabin, Length: 147, dtype: int64 \n",
      "\n",
      "Embarked \n",
      " S    644\n",
      "C    168\n",
      "Q     77\n",
      "Name: Embarked, dtype: int64 \n",
      "\n"
     ]
    }
   ],
   "source": [
    "for i in df.columns:\n",
    "    print(i,'\\n',df[i].value_counts()\n",
    "         ,'\\n')"
   ]
  },
  {
   "cell_type": "markdown",
   "id": "ba2ac8f0",
   "metadata": {},
   "source": [
    "*Passenger Id columns\n",
    "every passenger has unique id\n",
    "\n",
    "*Survived column \n",
    "549 people not survived \n",
    "342 people survived\n",
    "\n",
    "*Passenger Class column , here 3 classes are present\n",
    "1st class has 216 passenger\n",
    "2nd class has 184 passenger\n",
    "3rd class has 491 passnger\n",
    "\n",
    "*Name column has 891 unique names \n",
    "\n",
    "*Sex column \n",
    "577 male passengers travelling in titanic\n",
    "314 female passengers travelling in titanic\n"
   ]
  },
  {
   "cell_type": "code",
   "execution_count": 10,
   "id": "47e9e3cd",
   "metadata": {},
   "outputs": [
    {
     "name": "stdout",
     "output_type": "stream",
     "text": [
      "PassengerId ----- 891\n",
      "Survived ----- 2\n",
      "Pclass ----- 3\n",
      "Name ----- 891\n",
      "Sex ----- 2\n",
      "Age ----- 88\n",
      "SibSp ----- 7\n",
      "Parch ----- 7\n",
      "Ticket ----- 681\n",
      "Fare ----- 248\n",
      "Cabin ----- 147\n",
      "Embarked ----- 3\n"
     ]
    }
   ],
   "source": [
    "for i in df.columns:\n",
    "    print(i,'-----',df[i].nunique())"
   ]
  },
  {
   "cell_type": "markdown",
   "id": "3ac87525",
   "metadata": {},
   "source": [
    "checking for the unique values in the dataset"
   ]
  },
  {
   "cell_type": "code",
   "execution_count": 11,
   "id": "da833ad5",
   "metadata": {},
   "outputs": [
    {
     "data": {
      "text/plain": [
       "PassengerId      0\n",
       "Survived         0\n",
       "Pclass           0\n",
       "Name             0\n",
       "Sex              0\n",
       "Age            177\n",
       "SibSp            0\n",
       "Parch            0\n",
       "Ticket           0\n",
       "Fare             0\n",
       "Cabin          687\n",
       "Embarked         2\n",
       "dtype: int64"
      ]
     },
     "execution_count": 11,
     "metadata": {},
     "output_type": "execute_result"
    }
   ],
   "source": [
    "df.isnull().sum()"
   ]
  },
  {
   "cell_type": "markdown",
   "id": "412a5ca6",
   "metadata": {},
   "source": [
    "Clearly we see null values in the dataset\n",
    "\n",
    "*Age column has 177 null values\n",
    "\n",
    "*cabin column has 687 null values\n",
    "\n",
    "*Embarkes column has 2 null values"
   ]
  },
  {
   "cell_type": "code",
   "execution_count": 14,
   "id": "56b2eb78",
   "metadata": {},
   "outputs": [
    {
     "data": {
      "text/plain": [
       "<AxesSubplot:>"
      ]
     },
     "execution_count": 14,
     "metadata": {},
     "output_type": "execute_result"
    },
    {
     "data": {
      "image/png": "[encoded data removed]",
      "text/plain": [
       "<Figure size 1440x576 with 2 Axes>"
      ]
     },
     "metadata": {
      "needs_background": "light"
     },
     "output_type": "display_data"
    }
   ],
   "source": [
    "plt.figure(figsize=(20,8))\n",
    "sns.heatmap(df.isnull(),cmap='Blues_r')"
   ]
  },
  {
   "cell_type": "markdown",
   "id": "d330ae8d",
   "metadata": {},
   "source": [
    "in the graph we can see the same null values "
   ]
  },
  {
   "cell_type": "code",
   "execution_count": 15,
   "id": "c6c57d59",
   "metadata": {},
   "outputs": [
    {
     "data": {
      "text/plain": [
       "687"
      ]
     },
     "execution_count": 15,
     "metadata": {},
     "output_type": "execute_result"
    }
   ],
   "source": [
    "df['Cabin'].isnull().sum()"
   ]
  },
  {
   "cell_type": "markdown",
   "id": "e002d727",
   "metadata": {},
   "source": [
    "since the cabin column having 687 null values, it will impact on prediction ,we have to drop the cabin column"
   ]
  },
  {
   "cell_type": "code",
   "execution_count": 16,
   "id": "d51c7abd",
   "metadata": {},
   "outputs": [
    {
     "data": {
      "text/html": [
       "<div>\n",
       "<style scoped>\n",
       "    .dataframe tbody tr th:only-of-type {\n",
       "        vertical-align: middle;\n",
       "    }\n",
       "\n",
       "    .dataframe tbody tr th {\n",
       "        vertical-align: top;\n",
       "    }\n",
       "\n",
       "    .dataframe thead th {\n",
       "        text-align: right;\n",
       "    }\n",
       "</style>\n",
       "<table border=\"1\" class=\"dataframe\">\n",
       "  <thead>\n",
       "    <tr style=\"text-align: right;\">\n",
       "      <th></th>\n",
       "      <th>PassengerId</th>\n",
       "      <th>Survived</th>\n",
       "      <th>Pclass</th>\n",
       "      <th>Name</th>\n",
       "      <th>Sex</th>\n",
       "      <th>Age</th>\n",
       "      <th>SibSp</th>\n",
       "      <th>Parch</th>\n",
       "      <th>Ticket</th>\n",
       "      <th>Fare</th>\n",
       "      <th>Embarked</th>\n",
       "    </tr>\n",
       "  </thead>\n",
       "  <tbody>\n",
       "    <tr>\n",
       "      <th>0</th>\n",
       "      <td>1</td>\n",
       "      <td>0</td>\n",
       "      <td>3</td>\n",
       "      <td>Braund, Mr. Owen Harris</td>\n",
       "      <td>male</td>\n",
       "      <td>22.0</td>\n",
       "      <td>1</td>\n",
       "      <td>0</td>\n",
       "      <td>A/5 21171</td>\n",
       "      <td>7.2500</td>\n",
       "      <td>S</td>\n",
       "    </tr>\n",
       "    <tr>\n",
       "      <th>1</th>\n",
       "      <td>2</td>\n",
       "      <td>1</td>\n",
       "      <td>1</td>\n",
       "      <td>Cumings, Mrs. John Bradley (Florence Briggs Th...</td>\n",
       "      <td>female</td>\n",
       "      <td>38.0</td>\n",
       "      <td>1</td>\n",
       "      <td>0</td>\n",
       "      <td>PC 17599</td>\n",
       "      <td>71.2833</td>\n",
       "      <td>C</td>\n",
       "    </tr>\n",
       "    <tr>\n",
       "      <th>2</th>\n",
       "      <td>3</td>\n",
       "      <td>1</td>\n",
       "      <td>3</td>\n",
       "      <td>Heikkinen, Miss. Laina</td>\n",
       "      <td>female</td>\n",
       "      <td>26.0</td>\n",
       "      <td>0</td>\n",
       "      <td>0</td>\n",
       "      <td>STON/O2. 3101282</td>\n",
       "      <td>7.9250</td>\n",
       "      <td>S</td>\n",
       "    </tr>\n",
       "    <tr>\n",
       "      <th>3</th>\n",
       "      <td>4</td>\n",
       "      <td>1</td>\n",
       "      <td>1</td>\n",
       "      <td>Futrelle, Mrs. Jacques Heath (Lily May Peel)</td>\n",
       "      <td>female</td>\n",
       "      <td>35.0</td>\n",
       "      <td>1</td>\n",
       "      <td>0</td>\n",
       "      <td>113803</td>\n",
       "      <td>53.1000</td>\n",
       "      <td>S</td>\n",
       "    </tr>\n",
       "    <tr>\n",
       "      <th>4</th>\n",
       "      <td>5</td>\n",
       "      <td>0</td>\n",
       "      <td>3</td>\n",
       "      <td>Allen, Mr. William Henry</td>\n",
       "      <td>male</td>\n",
       "      <td>35.0</td>\n",
       "      <td>0</td>\n",
       "      <td>0</td>\n",
       "      <td>373450</td>\n",
       "      <td>8.0500</td>\n",
       "      <td>S</td>\n",
       "    </tr>\n",
       "    <tr>\n",
       "      <th>...</th>\n",
       "      <td>...</td>\n",
       "      <td>...</td>\n",
       "      <td>...</td>\n",
       "      <td>...</td>\n",
       "      <td>...</td>\n",
       "      <td>...</td>\n",
       "      <td>...</td>\n",
       "      <td>...</td>\n",
       "      <td>...</td>\n",
       "      <td>...</td>\n",
       "      <td>...</td>\n",
       "    </tr>\n",
       "    <tr>\n",
       "      <th>886</th>\n",
       "      <td>887</td>\n",
       "      <td>0</td>\n",
       "      <td>2</td>\n",
       "      <td>Montvila, Rev. Juozas</td>\n",
       "      <td>male</td>\n",
       "      <td>27.0</td>\n",
       "      <td>0</td>\n",
       "      <td>0</td>\n",
       "      <td>211536</td>\n",
       "      <td>13.0000</td>\n",
       "      <td>S</td>\n",
       "    </tr>\n",
       "    <tr>\n",
       "      <th>887</th>\n",
       "      <td>888</td>\n",
       "      <td>1</td>\n",
       "      <td>1</td>\n",
       "      <td>Graham, Miss. Margaret Edith</td>\n",
       "      <td>female</td>\n",
       "      <td>19.0</td>\n",
       "      <td>0</td>\n",
       "      <td>0</td>\n",
       "      <td>112053</td>\n",
       "      <td>30.0000</td>\n",
       "      <td>S</td>\n",
       "    </tr>\n",
       "    <tr>\n",
       "      <th>888</th>\n",
       "      <td>889</td>\n",
       "      <td>0</td>\n",
       "      <td>3</td>\n",
       "      <td>Johnston, Miss. Catherine Helen \"Carrie\"</td>\n",
       "      <td>female</td>\n",
       "      <td>NaN</td>\n",
       "      <td>1</td>\n",
       "      <td>2</td>\n",
       "      <td>W./C. 6607</td>\n",
       "      <td>23.4500</td>\n",
       "      <td>S</td>\n",
       "    </tr>\n",
       "    <tr>\n",
       "      <th>889</th>\n",
       "      <td>890</td>\n",
       "      <td>1</td>\n",
       "      <td>1</td>\n",
       "      <td>Behr, Mr. Karl Howell</td>\n",
       "      <td>male</td>\n",
       "      <td>26.0</td>\n",
       "      <td>0</td>\n",
       "      <td>0</td>\n",
       "      <td>111369</td>\n",
       "      <td>30.0000</td>\n",
       "      <td>C</td>\n",
       "    </tr>\n",
       "    <tr>\n",
       "      <th>890</th>\n",
       "      <td>891</td>\n",
       "      <td>0</td>\n",
       "      <td>3</td>\n",
       "      <td>Dooley, Mr. Patrick</td>\n",
       "      <td>male</td>\n",
       "      <td>32.0</td>\n",
       "      <td>0</td>\n",
       "      <td>0</td>\n",
       "      <td>370376</td>\n",
       "      <td>7.7500</td>\n",
       "      <td>Q</td>\n",
       "    </tr>\n",
       "  </tbody>\n",
       "</table>\n",
       "<p>891 rows × 11 columns</p>\n",
       "</div>"
      ],
      "text/plain": [
       "     PassengerId  Survived  Pclass  \\\n",
       "0              1         0       3   \n",
       "1              2         1       1   \n",
       "2              3         1       3   \n",
       "3              4         1       1   \n",
       "4              5         0       3   \n",
       "..           ...       ...     ...   \n",
       "886          887         0       2   \n",
       "887          888         1       1   \n",
       "888          889         0       3   \n",
       "889          890         1       1   \n",
       "890          891         0       3   \n",
       "\n",
       "                                                  Name     Sex   Age  SibSp  \\\n",
       "0                              Braund, Mr. Owen Harris    male  22.0      1   \n",
       "1    Cumings, Mrs. John Bradley (Florence Briggs Th...  female  38.0      1   \n",
       "2                               Heikkinen, Miss. Laina  female  26.0      0   \n",
       "3         Futrelle, Mrs. Jacques Heath (Lily May Peel)  female  35.0      1   \n",
       "4                             Allen, Mr. William Henry    male  35.0      0   \n",
       "..                                                 ...     ...   ...    ...   \n",
       "886                              Montvila, Rev. Juozas    male  27.0      0   \n",
       "887                       Graham, Miss. Margaret Edith  female  19.0      0   \n",
       "888           Johnston, Miss. Catherine Helen \"Carrie\"  female   NaN      1   \n",
       "889                              Behr, Mr. Karl Howell    male  26.0      0   \n",
       "890                                Dooley, Mr. Patrick    male  32.0      0   \n",
       "\n",
       "     Parch            Ticket     Fare Embarked  \n",
       "0        0         A/5 21171   7.2500        S  \n",
       "1        0          PC 17599  71.2833        C  \n",
       "2        0  STON/O2. 3101282   7.9250        S  \n",
       "3        0            113803  53.1000        S  \n",
       "4        0            373450   8.0500        S  \n",
       "..     ...               ...      ...      ...  \n",
       "886      0            211536  13.0000        S  \n",
       "887      0            112053  30.0000        S  \n",
       "888      2        W./C. 6607  23.4500        S  \n",
       "889      0            111369  30.0000        C  \n",
       "890      0            370376   7.7500        Q  \n",
       "\n",
       "[891 rows x 11 columns]"
      ]
     },
     "execution_count": 16,
     "metadata": {},
     "output_type": "execute_result"
    }
   ],
   "source": [
    "df=df.drop(['Cabin'],axis=1)\n",
    "df"
   ]
  },
  {
   "cell_type": "markdown",
   "id": "f7f8f675",
   "metadata": {},
   "source": [
    "Cabin column drop from the dataset"
   ]
  },
  {
   "cell_type": "code",
   "execution_count": 17,
   "id": "be6a1920",
   "metadata": {},
   "outputs": [
    {
     "data": {
      "text/plain": [
       "177"
      ]
     },
     "execution_count": 17,
     "metadata": {},
     "output_type": "execute_result"
    }
   ],
   "source": [
    "df['Age'].isnull().sum()"
   ]
  },
  {
   "cell_type": "markdown",
   "id": "99449812",
   "metadata": {},
   "source": [
    "Age column has 177 null values ,if we drop the Age column we loss the some data,thats the reason replacing the null values with the mean of the Age Column"
   ]
  },
  {
   "cell_type": "code",
   "execution_count": 18,
   "id": "1be9d1a4",
   "metadata": {},
   "outputs": [],
   "source": [
    "age_mean=df['Age'].mean()"
   ]
  },
  {
   "cell_type": "code",
   "execution_count": 19,
   "id": "75da8309",
   "metadata": {},
   "outputs": [],
   "source": [
    "df['Age'].fillna(value=age_mean,inplace=True)"
   ]
  },
  {
   "cell_type": "markdown",
   "id": "bab22e09",
   "metadata": {},
   "source": [
    "filling the null values with mean"
   ]
  },
  {
   "cell_type": "code",
   "execution_count": 20,
   "id": "e429e03b",
   "metadata": {},
   "outputs": [
    {
     "data": {
      "text/plain": [
       "0"
      ]
     },
     "execution_count": 20,
     "metadata": {},
     "output_type": "execute_result"
    }
   ],
   "source": [
    "df['Age'].isnull().sum()"
   ]
  },
  {
   "cell_type": "markdown",
   "id": "7d19c4d5",
   "metadata": {},
   "source": [
    "now we can see there is no null values in Age Column"
   ]
  },
  {
   "cell_type": "code",
   "execution_count": 21,
   "id": "ea4e4d91",
   "metadata": {},
   "outputs": [
    {
     "data": {
      "text/plain": [
       "2"
      ]
     },
     "execution_count": 21,
     "metadata": {},
     "output_type": "execute_result"
    }
   ],
   "source": [
    "df['Embarked'].isnull().sum()"
   ]
  },
  {
   "cell_type": "markdown",
   "id": "de02d7ac",
   "metadata": {},
   "source": [
    "Embarked column has only 2 null values, so i am going to drop the 2 null rows from the dataset"
   ]
  },
  {
   "cell_type": "code",
   "execution_count": 22,
   "id": "d42bb587",
   "metadata": {},
   "outputs": [],
   "source": [
    "df.dropna(inplace=True)"
   ]
  },
  {
   "cell_type": "markdown",
   "id": "8c53eb57",
   "metadata": {},
   "source": [
    "droped the null rows from the dataset"
   ]
  },
  {
   "cell_type": "code",
   "execution_count": 23,
   "id": "8f3c18d0",
   "metadata": {},
   "outputs": [
    {
     "data": {
      "text/plain": [
       "PassengerId    0\n",
       "Survived       0\n",
       "Pclass         0\n",
       "Name           0\n",
       "Sex            0\n",
       "Age            0\n",
       "SibSp          0\n",
       "Parch          0\n",
       "Ticket         0\n",
       "Fare           0\n",
       "Embarked       0\n",
       "dtype: int64"
      ]
     },
     "execution_count": 23,
     "metadata": {},
     "output_type": "execute_result"
    }
   ],
   "source": [
    "df.isnull().sum()"
   ]
  },
  {
   "cell_type": "markdown",
   "id": "ac0dea40",
   "metadata": {},
   "source": [
    "There is no columns has null values now"
   ]
  },
  {
   "cell_type": "code",
   "execution_count": 24,
   "id": "0c8a798b",
   "metadata": {},
   "outputs": [
    {
     "data": {
      "text/html": [
       "<div>\n",
       "<style scoped>\n",
       "    .dataframe tbody tr th:only-of-type {\n",
       "        vertical-align: middle;\n",
       "    }\n",
       "\n",
       "    .dataframe tbody tr th {\n",
       "        vertical-align: top;\n",
       "    }\n",
       "\n",
       "    .dataframe thead th {\n",
       "        text-align: right;\n",
       "    }\n",
       "</style>\n",
       "<table border=\"1\" class=\"dataframe\">\n",
       "  <thead>\n",
       "    <tr style=\"text-align: right;\">\n",
       "      <th></th>\n",
       "      <th>PassengerId</th>\n",
       "      <th>Survived</th>\n",
       "      <th>Pclass</th>\n",
       "      <th>Age</th>\n",
       "      <th>SibSp</th>\n",
       "      <th>Parch</th>\n",
       "      <th>Fare</th>\n",
       "    </tr>\n",
       "  </thead>\n",
       "  <tbody>\n",
       "    <tr>\n",
       "      <th>count</th>\n",
       "      <td>889.000000</td>\n",
       "      <td>889.000000</td>\n",
       "      <td>889.000000</td>\n",
       "      <td>889.000000</td>\n",
       "      <td>889.000000</td>\n",
       "      <td>889.000000</td>\n",
       "      <td>889.000000</td>\n",
       "    </tr>\n",
       "    <tr>\n",
       "      <th>mean</th>\n",
       "      <td>446.000000</td>\n",
       "      <td>0.382452</td>\n",
       "      <td>2.311586</td>\n",
       "      <td>29.653446</td>\n",
       "      <td>0.524184</td>\n",
       "      <td>0.382452</td>\n",
       "      <td>32.096681</td>\n",
       "    </tr>\n",
       "    <tr>\n",
       "      <th>std</th>\n",
       "      <td>256.998173</td>\n",
       "      <td>0.486260</td>\n",
       "      <td>0.834700</td>\n",
       "      <td>12.968366</td>\n",
       "      <td>1.103705</td>\n",
       "      <td>0.806761</td>\n",
       "      <td>49.697504</td>\n",
       "    </tr>\n",
       "    <tr>\n",
       "      <th>min</th>\n",
       "      <td>1.000000</td>\n",
       "      <td>0.000000</td>\n",
       "      <td>1.000000</td>\n",
       "      <td>0.420000</td>\n",
       "      <td>0.000000</td>\n",
       "      <td>0.000000</td>\n",
       "      <td>0.000000</td>\n",
       "    </tr>\n",
       "    <tr>\n",
       "      <th>25%</th>\n",
       "      <td>224.000000</td>\n",
       "      <td>0.000000</td>\n",
       "      <td>2.000000</td>\n",
       "      <td>22.000000</td>\n",
       "      <td>0.000000</td>\n",
       "      <td>0.000000</td>\n",
       "      <td>7.895800</td>\n",
       "    </tr>\n",
       "    <tr>\n",
       "      <th>50%</th>\n",
       "      <td>446.000000</td>\n",
       "      <td>0.000000</td>\n",
       "      <td>3.000000</td>\n",
       "      <td>29.699118</td>\n",
       "      <td>0.000000</td>\n",
       "      <td>0.000000</td>\n",
       "      <td>14.454200</td>\n",
       "    </tr>\n",
       "    <tr>\n",
       "      <th>75%</th>\n",
       "      <td>668.000000</td>\n",
       "      <td>1.000000</td>\n",
       "      <td>3.000000</td>\n",
       "      <td>35.000000</td>\n",
       "      <td>1.000000</td>\n",
       "      <td>0.000000</td>\n",
       "      <td>31.000000</td>\n",
       "    </tr>\n",
       "    <tr>\n",
       "      <th>max</th>\n",
       "      <td>891.000000</td>\n",
       "      <td>1.000000</td>\n",
       "      <td>3.000000</td>\n",
       "      <td>80.000000</td>\n",
       "      <td>8.000000</td>\n",
       "      <td>6.000000</td>\n",
       "      <td>512.329200</td>\n",
       "    </tr>\n",
       "  </tbody>\n",
       "</table>\n",
       "</div>"
      ],
      "text/plain": [
       "       PassengerId    Survived      Pclass         Age       SibSp  \\\n",
       "count   889.000000  889.000000  889.000000  889.000000  889.000000   \n",
       "mean    446.000000    0.382452    2.311586   29.653446    0.524184   \n",
       "std     256.998173    0.486260    0.834700   12.968366    1.103705   \n",
       "min       1.000000    0.000000    1.000000    0.420000    0.000000   \n",
       "25%     224.000000    0.000000    2.000000   22.000000    0.000000   \n",
       "50%     446.000000    0.000000    3.000000   29.699118    0.000000   \n",
       "75%     668.000000    1.000000    3.000000   35.000000    1.000000   \n",
       "max     891.000000    1.000000    3.000000   80.000000    8.000000   \n",
       "\n",
       "            Parch        Fare  \n",
       "count  889.000000  889.000000  \n",
       "mean     0.382452   32.096681  \n",
       "std      0.806761   49.697504  \n",
       "min      0.000000    0.000000  \n",
       "25%      0.000000    7.895800  \n",
       "50%      0.000000   14.454200  \n",
       "75%      0.000000   31.000000  \n",
       "max      6.000000  512.329200  "
      ]
     },
     "execution_count": 24,
     "metadata": {},
     "output_type": "execute_result"
    }
   ],
   "source": [
    "df.describe()"
   ]
  },
  {
   "cell_type": "markdown",
   "id": "dda470bc",
   "metadata": {},
   "source": [
    "Statical analysis for the dataset\n",
    "\n",
    "*The median is greater than the mean There is right skewed data present\n",
    "\n",
    "*some columns like passsenger id,Age,sibSp,Parch,Fare columns has huge gap between the 75th percentile and the max value\n",
    "\n",
    "*there are 889 rows in each columns "
   ]
  },
  {
   "cell_type": "markdown",
   "id": "88e4d067",
   "metadata": {},
   "source": [
    "# Data visualization "
   ]
  },
  {
   "cell_type": "code",
   "execution_count": 25,
   "id": "697b11fd",
   "metadata": {},
   "outputs": [
    {
     "data": {
      "text/plain": [
       "<AxesSubplot:xlabel='Survived', ylabel='count'>"
      ]
     },
     "execution_count": 25,
     "metadata": {},
     "output_type": "execute_result"
    },
    {
     "data": {
      "image/png": "[encoded data removed]",
      "text/plain": [
       "<Figure size 432x288 with 1 Axes>"
      ]
     },
     "metadata": {
      "needs_background": "light"
     },
     "output_type": "display_data"
    }
   ],
   "source": [
    "sns.countplot(df['Survived'])"
   ]
  },
  {
   "cell_type": "markdown",
   "id": "70bab7db",
   "metadata": {},
   "source": [
    "count plot shows the value counts of survived and not survived of the column"
   ]
  },
  {
   "cell_type": "code",
   "execution_count": 26,
   "id": "4065d7cc",
   "metadata": {},
   "outputs": [
    {
     "data": {
      "text/plain": [
       "<seaborn.axisgrid.FacetGrid at 0x1b4a204ba00>"
      ]
     },
     "execution_count": 26,
     "metadata": {},
     "output_type": "execute_result"
    },
    {
     "data": {
      "image/png": "[encoded data removed]",
      "text/plain": [
       "<Figure size 411.875x360 with 1 Axes>"
      ]
     },
     "metadata": {
      "needs_background": "light"
     },
     "output_type": "display_data"
    }
   ],
   "source": [
    "sns.catplot(data=df,x='Sex',y='Fare',hue='Survived')"
   ]
  },
  {
   "cell_type": "markdown",
   "id": "ea858a60",
   "metadata": {},
   "source": [
    "from the graph we can clearly say thet males sacrificed their lifes and females passengers survived more "
   ]
  },
  {
   "cell_type": "code",
   "execution_count": 37,
   "id": "871cd008",
   "metadata": {},
   "outputs": [
    {
     "data": {
      "text/plain": [
       "<seaborn.axisgrid.FacetGrid at 0x1b4a3f42ac0>"
      ]
     },
     "execution_count": 37,
     "metadata": {},
     "output_type": "execute_result"
    },
    {
     "data": {
      "image/png": "[encoded data removed]",
      "text/plain": [
       "<Figure size 411.875x360 with 1 Axes>"
      ]
     },
     "metadata": {
      "needs_background": "light"
     },
     "output_type": "display_data"
    }
   ],
   "source": [
    "sns.catplot(x='Sex',hue='Survived',y='Pclass',data=df)"
   ]
  },
  {
   "cell_type": "markdown",
   "id": "af1b6362",
   "metadata": {},
   "source": [
    "the passengers travelling with 1st class ticket are survived more as comparied to the 2nd class and 3rd class ticket passengers \n",
    "\n",
    "Fimale passengers are survived in all the class"
   ]
  },
  {
   "cell_type": "code",
   "execution_count": 44,
   "id": "70d87b95",
   "metadata": {},
   "outputs": [
    {
     "data": {
      "text/plain": [
       "<seaborn.axisgrid.FacetGrid at 0x1b4ac4995e0>"
      ]
     },
     "execution_count": 44,
     "metadata": {},
     "output_type": "execute_result"
    },
    {
     "data": {
      "image/png": "[encoded data removed]",
      "text/plain": [
       "<Figure size 1080x360 with 3 Axes>"
      ]
     },
     "metadata": {
      "needs_background": "light"
     },
     "output_type": "display_data"
    }
   ],
   "source": [
    "sns.catplot(x=\"Sex\",y=\"Survived\",col=\"Pclass\",data=df,kind=\"point\")"
   ]
  },
  {
   "cell_type": "code",
   "execution_count": null,
   "id": "57aeb265",
   "metadata": {},
   "outputs": [],
   "source": []
  },
  {
   "cell_type": "code",
   "execution_count": 38,
   "id": "0d9d346d",
   "metadata": {},
   "outputs": [
    {
     "name": "stdout",
     "output_type": "stream",
     "text": [
      "             PassengerId  Survived    Pclass       Age     SibSp     Parch  \\\n",
      "PassengerId     1.000000 -0.005028 -0.035330  0.030300 -0.057686 -0.001657   \n",
      "Survived       -0.005028  1.000000 -0.335549 -0.074673 -0.034040  0.083151   \n",
      "Pclass         -0.035330 -0.335549  1.000000 -0.327954  0.081656  0.016824   \n",
      "Age             0.030300 -0.074673 -0.327954  1.000000 -0.231875 -0.178232   \n",
      "SibSp          -0.057686 -0.034040  0.081656 -0.231875  1.000000  0.414542   \n",
      "Parch          -0.001657  0.083151  0.016824 -0.178232  0.414542  1.000000   \n",
      "Fare            0.012703  0.255290 -0.548193  0.088604  0.160887  0.217532   \n",
      "\n",
      "                 Fare  \n",
      "PassengerId  0.012703  \n",
      "Survived     0.255290  \n",
      "Pclass      -0.548193  \n",
      "Age          0.088604  \n",
      "SibSp        0.160887  \n",
      "Parch        0.217532  \n",
      "Fare         1.000000  \n"
     ]
    },
    {
     "data": {
      "text/plain": [
       "<AxesSubplot:>"
      ]
     },
     "execution_count": 38,
     "metadata": {},
     "output_type": "execute_result"
    },
    {
     "data": {
      "image/png": "[encoded data removed]",
      "text/plain": [
       "<Figure size 1080x576 with 2 Axes>"
      ]
     },
     "metadata": {
      "needs_background": "light"
     },
     "output_type": "display_data"
    }
   ],
   "source": [
    "print(df.corr())\n",
    "plt.figure(figsize=(15,8))\n",
    "sns.heatmap(df.corr(),annot=True,fmt='0.2f')"
   ]
  },
  {
   "cell_type": "markdown",
   "id": "47fa853b",
   "metadata": {},
   "source": [
    "with the help of the corr function we analyse the co reletion of the data set \n",
    "\n",
    "*Fare column has highest co reletion with the survived columns compared to the other columns\n",
    "\n",
    "*Pclass column has highly negative co reletion with the survived column\n",
    "\n",
    "*Age,sibSp,passengerid columns also has little negative co reletion with respect to the survived column"
   ]
  },
  {
   "cell_type": "code",
   "execution_count": 39,
   "id": "9d1c4d6a",
   "metadata": {},
   "outputs": [
    {
     "data": {
      "text/html": [
       "<div>\n",
       "<style scoped>\n",
       "    .dataframe tbody tr th:only-of-type {\n",
       "        vertical-align: middle;\n",
       "    }\n",
       "\n",
       "    .dataframe tbody tr th {\n",
       "        vertical-align: top;\n",
       "    }\n",
       "\n",
       "    .dataframe thead th {\n",
       "        text-align: right;\n",
       "    }\n",
       "</style>\n",
       "<table border=\"1\" class=\"dataframe\">\n",
       "  <thead>\n",
       "    <tr style=\"text-align: right;\">\n",
       "      <th></th>\n",
       "      <th>PassengerId</th>\n",
       "      <th>Survived</th>\n",
       "      <th>Pclass</th>\n",
       "      <th>Name</th>\n",
       "      <th>Sex</th>\n",
       "      <th>Age</th>\n",
       "      <th>SibSp</th>\n",
       "      <th>Parch</th>\n",
       "      <th>Ticket</th>\n",
       "      <th>Fare</th>\n",
       "      <th>Embarked</th>\n",
       "    </tr>\n",
       "  </thead>\n",
       "  <tbody>\n",
       "    <tr>\n",
       "      <th>0</th>\n",
       "      <td>1</td>\n",
       "      <td>0</td>\n",
       "      <td>3</td>\n",
       "      <td>108.0</td>\n",
       "      <td>1.0</td>\n",
       "      <td>22.000000</td>\n",
       "      <td>1</td>\n",
       "      <td>0</td>\n",
       "      <td>522.0</td>\n",
       "      <td>7.2500</td>\n",
       "      <td>2.0</td>\n",
       "    </tr>\n",
       "    <tr>\n",
       "      <th>1</th>\n",
       "      <td>2</td>\n",
       "      <td>1</td>\n",
       "      <td>1</td>\n",
       "      <td>190.0</td>\n",
       "      <td>0.0</td>\n",
       "      <td>38.000000</td>\n",
       "      <td>1</td>\n",
       "      <td>0</td>\n",
       "      <td>595.0</td>\n",
       "      <td>71.2833</td>\n",
       "      <td>0.0</td>\n",
       "    </tr>\n",
       "    <tr>\n",
       "      <th>2</th>\n",
       "      <td>3</td>\n",
       "      <td>1</td>\n",
       "      <td>3</td>\n",
       "      <td>353.0</td>\n",
       "      <td>0.0</td>\n",
       "      <td>26.000000</td>\n",
       "      <td>0</td>\n",
       "      <td>0</td>\n",
       "      <td>668.0</td>\n",
       "      <td>7.9250</td>\n",
       "      <td>2.0</td>\n",
       "    </tr>\n",
       "    <tr>\n",
       "      <th>3</th>\n",
       "      <td>4</td>\n",
       "      <td>1</td>\n",
       "      <td>1</td>\n",
       "      <td>272.0</td>\n",
       "      <td>0.0</td>\n",
       "      <td>35.000000</td>\n",
       "      <td>1</td>\n",
       "      <td>0</td>\n",
       "      <td>48.0</td>\n",
       "      <td>53.1000</td>\n",
       "      <td>2.0</td>\n",
       "    </tr>\n",
       "    <tr>\n",
       "      <th>4</th>\n",
       "      <td>5</td>\n",
       "      <td>0</td>\n",
       "      <td>3</td>\n",
       "      <td>15.0</td>\n",
       "      <td>1.0</td>\n",
       "      <td>35.000000</td>\n",
       "      <td>0</td>\n",
       "      <td>0</td>\n",
       "      <td>471.0</td>\n",
       "      <td>8.0500</td>\n",
       "      <td>2.0</td>\n",
       "    </tr>\n",
       "    <tr>\n",
       "      <th>...</th>\n",
       "      <td>...</td>\n",
       "      <td>...</td>\n",
       "      <td>...</td>\n",
       "      <td>...</td>\n",
       "      <td>...</td>\n",
       "      <td>...</td>\n",
       "      <td>...</td>\n",
       "      <td>...</td>\n",
       "      <td>...</td>\n",
       "      <td>...</td>\n",
       "      <td>...</td>\n",
       "    </tr>\n",
       "    <tr>\n",
       "      <th>886</th>\n",
       "      <td>887</td>\n",
       "      <td>0</td>\n",
       "      <td>2</td>\n",
       "      <td>547.0</td>\n",
       "      <td>1.0</td>\n",
       "      <td>27.000000</td>\n",
       "      <td>0</td>\n",
       "      <td>0</td>\n",
       "      <td>100.0</td>\n",
       "      <td>13.0000</td>\n",
       "      <td>2.0</td>\n",
       "    </tr>\n",
       "    <tr>\n",
       "      <th>887</th>\n",
       "      <td>888</td>\n",
       "      <td>1</td>\n",
       "      <td>1</td>\n",
       "      <td>303.0</td>\n",
       "      <td>0.0</td>\n",
       "      <td>19.000000</td>\n",
       "      <td>0</td>\n",
       "      <td>0</td>\n",
       "      <td>14.0</td>\n",
       "      <td>30.0000</td>\n",
       "      <td>2.0</td>\n",
       "    </tr>\n",
       "    <tr>\n",
       "      <th>888</th>\n",
       "      <td>889</td>\n",
       "      <td>0</td>\n",
       "      <td>3</td>\n",
       "      <td>412.0</td>\n",
       "      <td>0.0</td>\n",
       "      <td>29.699118</td>\n",
       "      <td>1</td>\n",
       "      <td>2</td>\n",
       "      <td>674.0</td>\n",
       "      <td>23.4500</td>\n",
       "      <td>2.0</td>\n",
       "    </tr>\n",
       "    <tr>\n",
       "      <th>889</th>\n",
       "      <td>890</td>\n",
       "      <td>1</td>\n",
       "      <td>1</td>\n",
       "      <td>81.0</td>\n",
       "      <td>1.0</td>\n",
       "      <td>26.000000</td>\n",
       "      <td>0</td>\n",
       "      <td>0</td>\n",
       "      <td>8.0</td>\n",
       "      <td>30.0000</td>\n",
       "      <td>0.0</td>\n",
       "    </tr>\n",
       "    <tr>\n",
       "      <th>890</th>\n",
       "      <td>891</td>\n",
       "      <td>0</td>\n",
       "      <td>3</td>\n",
       "      <td>220.0</td>\n",
       "      <td>1.0</td>\n",
       "      <td>32.000000</td>\n",
       "      <td>0</td>\n",
       "      <td>0</td>\n",
       "      <td>465.0</td>\n",
       "      <td>7.7500</td>\n",
       "      <td>1.0</td>\n",
       "    </tr>\n",
       "  </tbody>\n",
       "</table>\n",
       "<p>889 rows × 11 columns</p>\n",
       "</div>"
      ],
      "text/plain": [
       "     PassengerId  Survived  Pclass   Name  Sex        Age  SibSp  Parch  \\\n",
       "0              1         0       3  108.0  1.0  22.000000      1      0   \n",
       "1              2         1       1  190.0  0.0  38.000000      1      0   \n",
       "2              3         1       3  353.0  0.0  26.000000      0      0   \n",
       "3              4         1       1  272.0  0.0  35.000000      1      0   \n",
       "4              5         0       3   15.0  1.0  35.000000      0      0   \n",
       "..           ...       ...     ...    ...  ...        ...    ...    ...   \n",
       "886          887         0       2  547.0  1.0  27.000000      0      0   \n",
       "887          888         1       1  303.0  0.0  19.000000      0      0   \n",
       "888          889         0       3  412.0  0.0  29.699118      1      2   \n",
       "889          890         1       1   81.0  1.0  26.000000      0      0   \n",
       "890          891         0       3  220.0  1.0  32.000000      0      0   \n",
       "\n",
       "     Ticket     Fare  Embarked  \n",
       "0     522.0   7.2500       2.0  \n",
       "1     595.0  71.2833       0.0  \n",
       "2     668.0   7.9250       2.0  \n",
       "3      48.0  53.1000       2.0  \n",
       "4     471.0   8.0500       2.0  \n",
       "..      ...      ...       ...  \n",
       "886   100.0  13.0000       2.0  \n",
       "887    14.0  30.0000       2.0  \n",
       "888   674.0  23.4500       2.0  \n",
       "889     8.0  30.0000       0.0  \n",
       "890   465.0   7.7500       1.0  \n",
       "\n",
       "[889 rows x 11 columns]"
      ]
     },
     "execution_count": 39,
     "metadata": {},
     "output_type": "execute_result"
    }
   ],
   "source": [
    "from sklearn.preprocessing import OrdinalEncoder\n",
    "OE=OrdinalEncoder()\n",
    "\n",
    "for i in df.columns:\n",
    "    if df[i].dtypes=='object':\n",
    "        df[i]=OE.fit_transform(df[i].values.reshape(-1,1))\n",
    "df"
   ]
  },
  {
   "cell_type": "markdown",
   "id": "c34d1e1f",
   "metadata": {},
   "source": [
    "In the titanic datset some object type data is present, converting the string data to numarical data with the help of the OrdinalEncoder"
   ]
  },
  {
   "cell_type": "code",
   "execution_count": 48,
   "id": "13b561b2",
   "metadata": {},
   "outputs": [
    {
     "data": {
      "image/png": "[encoded data removed]",
      "text/plain": [
       "<Figure size 1080x1080 with 11 Axes>"
      ]
     },
     "metadata": {},
     "output_type": "display_data"
    }
   ],
   "source": [
    "plt.figure(figsize=(15,15),facecolor='g')\n",
    "\n",
    "p=1\n",
    "\n",
    "for i in df.columns:\n",
    "    if p<15:\n",
    "        plt.subplot(5,3,p)\n",
    "        sns.boxplot(data=df[i],palette='tab10')\n",
    "        plt.xlabel('density')\n",
    "        plt.ylabel(i)\n",
    "    p+=1\n",
    "plt.show()"
   ]
  },
  {
   "cell_type": "markdown",
   "id": "8d1c37bb",
   "metadata": {},
   "source": [
    "with the help of the Boxplot we can identify the outliers in the dataset\n",
    "\n",
    "*Age column has outlier\n",
    "\n",
    "*sibSp column has outliers\n",
    "\n",
    "*Parch column has maximum outliers\n",
    "\n",
    "*Fare column also has the outliers \n",
    "\n",
    " we have to remove the outliers present in the dataset otherwise accuracy of prediction will be poor "
   ]
  },
  {
   "cell_type": "markdown",
   "id": "6f539188",
   "metadata": {},
   "source": [
    "# Zscore Method to remove the outliers"
   ]
  },
  {
   "cell_type": "code",
   "execution_count": 49,
   "id": "f3d26157",
   "metadata": {},
   "outputs": [
    {
     "data": {
      "text/html": [
       "<div>\n",
       "<style scoped>\n",
       "    .dataframe tbody tr th:only-of-type {\n",
       "        vertical-align: middle;\n",
       "    }\n",
       "\n",
       "    .dataframe tbody tr th {\n",
       "        vertical-align: top;\n",
       "    }\n",
       "\n",
       "    .dataframe thead th {\n",
       "        text-align: right;\n",
       "    }\n",
       "</style>\n",
       "<table border=\"1\" class=\"dataframe\">\n",
       "  <thead>\n",
       "    <tr style=\"text-align: right;\">\n",
       "      <th></th>\n",
       "      <th>PassengerId</th>\n",
       "      <th>Survived</th>\n",
       "      <th>Pclass</th>\n",
       "      <th>Name</th>\n",
       "      <th>Sex</th>\n",
       "      <th>Age</th>\n",
       "      <th>SibSp</th>\n",
       "      <th>Parch</th>\n",
       "      <th>Ticket</th>\n",
       "      <th>Fare</th>\n",
       "      <th>Embarked</th>\n",
       "    </tr>\n",
       "  </thead>\n",
       "  <tbody>\n",
       "    <tr>\n",
       "      <th>0</th>\n",
       "      <td>1.732505</td>\n",
       "      <td>0.786961</td>\n",
       "      <td>0.825209</td>\n",
       "      <td>1.309268</td>\n",
       "      <td>0.735342</td>\n",
       "      <td>0.590495</td>\n",
       "      <td>0.431350</td>\n",
       "      <td>0.474326</td>\n",
       "      <td>0.917018</td>\n",
       "      <td>0.500240</td>\n",
       "      <td>0.586840</td>\n",
       "    </tr>\n",
       "    <tr>\n",
       "      <th>1</th>\n",
       "      <td>1.728611</td>\n",
       "      <td>1.270711</td>\n",
       "      <td>1.572211</td>\n",
       "      <td>0.989744</td>\n",
       "      <td>1.359911</td>\n",
       "      <td>0.643971</td>\n",
       "      <td>0.431350</td>\n",
       "      <td>0.474326</td>\n",
       "      <td>1.281353</td>\n",
       "      <td>0.788947</td>\n",
       "      <td>1.939555</td>\n",
       "    </tr>\n",
       "    <tr>\n",
       "      <th>2</th>\n",
       "      <td>1.724718</td>\n",
       "      <td>1.270711</td>\n",
       "      <td>0.825209</td>\n",
       "      <td>0.354593</td>\n",
       "      <td>1.359911</td>\n",
       "      <td>0.281878</td>\n",
       "      <td>0.475199</td>\n",
       "      <td>0.474326</td>\n",
       "      <td>1.645689</td>\n",
       "      <td>0.486650</td>\n",
       "      <td>0.586840</td>\n",
       "    </tr>\n",
       "    <tr>\n",
       "      <th>3</th>\n",
       "      <td>1.720825</td>\n",
       "      <td>1.270711</td>\n",
       "      <td>1.572211</td>\n",
       "      <td>0.670220</td>\n",
       "      <td>1.359911</td>\n",
       "      <td>0.412509</td>\n",
       "      <td>0.431350</td>\n",
       "      <td>0.474326</td>\n",
       "      <td>1.448669</td>\n",
       "      <td>0.422861</td>\n",
       "      <td>0.586840</td>\n",
       "    </tr>\n",
       "    <tr>\n",
       "      <th>4</th>\n",
       "      <td>1.716931</td>\n",
       "      <td>0.786961</td>\n",
       "      <td>0.825209</td>\n",
       "      <td>1.671654</td>\n",
       "      <td>0.735342</td>\n",
       "      <td>0.412509</td>\n",
       "      <td>0.475199</td>\n",
       "      <td>0.474326</td>\n",
       "      <td>0.662482</td>\n",
       "      <td>0.484133</td>\n",
       "      <td>0.586840</td>\n",
       "    </tr>\n",
       "    <tr>\n",
       "      <th>...</th>\n",
       "      <td>...</td>\n",
       "      <td>...</td>\n",
       "      <td>...</td>\n",
       "      <td>...</td>\n",
       "      <td>...</td>\n",
       "      <td>...</td>\n",
       "      <td>...</td>\n",
       "      <td>...</td>\n",
       "      <td>...</td>\n",
       "      <td>...</td>\n",
       "      <td>...</td>\n",
       "    </tr>\n",
       "    <tr>\n",
       "      <th>886</th>\n",
       "      <td>1.716931</td>\n",
       "      <td>0.786961</td>\n",
       "      <td>0.373501</td>\n",
       "      <td>0.401353</td>\n",
       "      <td>0.735342</td>\n",
       "      <td>0.204724</td>\n",
       "      <td>0.475199</td>\n",
       "      <td>0.474326</td>\n",
       "      <td>1.189142</td>\n",
       "      <td>0.384475</td>\n",
       "      <td>0.586840</td>\n",
       "    </tr>\n",
       "    <tr>\n",
       "      <th>887</th>\n",
       "      <td>1.720825</td>\n",
       "      <td>1.270711</td>\n",
       "      <td>1.572211</td>\n",
       "      <td>0.549425</td>\n",
       "      <td>1.359911</td>\n",
       "      <td>0.821957</td>\n",
       "      <td>0.475199</td>\n",
       "      <td>0.474326</td>\n",
       "      <td>1.618360</td>\n",
       "      <td>0.042213</td>\n",
       "      <td>0.586840</td>\n",
       "    </tr>\n",
       "    <tr>\n",
       "      <th>888</th>\n",
       "      <td>1.724718</td>\n",
       "      <td>0.786961</td>\n",
       "      <td>0.825209</td>\n",
       "      <td>0.124692</td>\n",
       "      <td>1.359911</td>\n",
       "      <td>0.003524</td>\n",
       "      <td>0.431350</td>\n",
       "      <td>2.006119</td>\n",
       "      <td>1.675635</td>\n",
       "      <td>0.174084</td>\n",
       "      <td>0.586840</td>\n",
       "    </tr>\n",
       "    <tr>\n",
       "      <th>889</th>\n",
       "      <td>1.728611</td>\n",
       "      <td>1.270711</td>\n",
       "      <td>1.572211</td>\n",
       "      <td>1.414477</td>\n",
       "      <td>0.735342</td>\n",
       "      <td>0.281878</td>\n",
       "      <td>0.475199</td>\n",
       "      <td>0.474326</td>\n",
       "      <td>1.648305</td>\n",
       "      <td>0.042213</td>\n",
       "      <td>1.939555</td>\n",
       "    </tr>\n",
       "    <tr>\n",
       "      <th>890</th>\n",
       "      <td>1.732505</td>\n",
       "      <td>0.786961</td>\n",
       "      <td>0.825209</td>\n",
       "      <td>0.872845</td>\n",
       "      <td>0.735342</td>\n",
       "      <td>0.181046</td>\n",
       "      <td>0.475199</td>\n",
       "      <td>0.474326</td>\n",
       "      <td>0.632536</td>\n",
       "      <td>0.490173</td>\n",
       "      <td>0.676357</td>\n",
       "    </tr>\n",
       "  </tbody>\n",
       "</table>\n",
       "<p>889 rows × 11 columns</p>\n",
       "</div>"
      ],
      "text/plain": [
       "     PassengerId  Survived    Pclass      Name       Sex       Age     SibSp  \\\n",
       "0       1.732505  0.786961  0.825209  1.309268  0.735342  0.590495  0.431350   \n",
       "1       1.728611  1.270711  1.572211  0.989744  1.359911  0.643971  0.431350   \n",
       "2       1.724718  1.270711  0.825209  0.354593  1.359911  0.281878  0.475199   \n",
       "3       1.720825  1.270711  1.572211  0.670220  1.359911  0.412509  0.431350   \n",
       "4       1.716931  0.786961  0.825209  1.671654  0.735342  0.412509  0.475199   \n",
       "..           ...       ...       ...       ...       ...       ...       ...   \n",
       "886     1.716931  0.786961  0.373501  0.401353  0.735342  0.204724  0.475199   \n",
       "887     1.720825  1.270711  1.572211  0.549425  1.359911  0.821957  0.475199   \n",
       "888     1.724718  0.786961  0.825209  0.124692  1.359911  0.003524  0.431350   \n",
       "889     1.728611  1.270711  1.572211  1.414477  0.735342  0.281878  0.475199   \n",
       "890     1.732505  0.786961  0.825209  0.872845  0.735342  0.181046  0.475199   \n",
       "\n",
       "        Parch    Ticket      Fare  Embarked  \n",
       "0    0.474326  0.917018  0.500240  0.586840  \n",
       "1    0.474326  1.281353  0.788947  1.939555  \n",
       "2    0.474326  1.645689  0.486650  0.586840  \n",
       "3    0.474326  1.448669  0.422861  0.586840  \n",
       "4    0.474326  0.662482  0.484133  0.586840  \n",
       "..        ...       ...       ...       ...  \n",
       "886  0.474326  1.189142  0.384475  0.586840  \n",
       "887  0.474326  1.618360  0.042213  0.586840  \n",
       "888  2.006119  1.675635  0.174084  0.586840  \n",
       "889  0.474326  1.648305  0.042213  1.939555  \n",
       "890  0.474326  0.632536  0.490173  0.676357  \n",
       "\n",
       "[889 rows x 11 columns]"
      ]
     },
     "execution_count": 49,
     "metadata": {},
     "output_type": "execute_result"
    }
   ],
   "source": [
    "from scipy.stats import zscore\n",
    "z=np.abs(zscore(df))\n",
    "z"
   ]
  },
  {
   "cell_type": "markdown",
   "id": "8ea41d02",
   "metadata": {},
   "source": [
    "importing zscore from scientific python lybrary "
   ]
  },
  {
   "cell_type": "code",
   "execution_count": 50,
   "id": "0a75889a",
   "metadata": {},
   "outputs": [
    {
     "name": "stdout",
     "output_type": "stream",
     "text": [
      "(array([ 13,  16,  25,  27,  50,  59,  67,  70,  85,  87,  95, 115, 117,\n",
      "       118, 158, 163, 166, 170, 179, 181, 200, 232, 257, 260, 265, 277,\n",
      "       298, 310, 323, 340, 359, 376, 379, 385, 436, 437, 437, 479, 492,\n",
      "       526, 540, 541, 556, 566, 609, 629, 637, 671, 677, 678, 682, 685,\n",
      "       688, 699, 715, 729, 735, 736, 741, 744, 773, 778, 786, 791, 812,\n",
      "       823, 844, 848, 849, 856, 861, 883], dtype=int64), array([7, 6, 7, 9, 6, 6, 6, 6, 7, 9, 5, 5, 9, 6, 6, 6, 7, 6, 6, 6, 6, 6,\n",
      "       9, 6, 6, 6, 9, 9, 6, 9, 7, 9, 9, 6, 7, 7, 9, 6, 5, 9, 6, 6, 9, 7,\n",
      "       7, 5, 7, 5, 7, 9, 6, 6, 9, 9, 9, 9, 7, 9, 9, 5, 7, 9, 6, 6, 6, 6,\n",
      "       6, 6, 5, 7, 6, 7], dtype=int64))\n"
     ]
    }
   ],
   "source": [
    "threshold=3\n",
    "print(np.where(z>3))"
   ]
  },
  {
   "cell_type": "markdown",
   "id": "0ebc4c70",
   "metadata": {},
   "source": [
    "setting the threshold to 3 beacuse 99% of present in 3 std,after that outliers are present "
   ]
  },
  {
   "cell_type": "code",
   "execution_count": 54,
   "id": "8e207256",
   "metadata": {},
   "outputs": [
    {
     "name": "stdout",
     "output_type": "stream",
     "text": [
      "5.726787126135417\n",
      "5.726787126135417\n",
      "3.1509981994394023\n"
     ]
    }
   ],
   "source": [
    "print(z.iloc[13][7])\n",
    "print(z.iloc[883][7])\n",
    "print(z.iloc[50][6])"
   ]
  },
  {
   "cell_type": "markdown",
   "id": "50339114",
   "metadata": {},
   "source": [
    "clearly we can see outliers are present"
   ]
  },
  {
   "cell_type": "code",
   "execution_count": 55,
   "id": "5d78d3ae",
   "metadata": {},
   "outputs": [],
   "source": [
    "df1=df[(z<3).all(axis=1)]"
   ]
  },
  {
   "cell_type": "markdown",
   "id": "625be375",
   "metadata": {},
   "source": [
    "Removing the outliers and saving in the new dataset df1"
   ]
  },
  {
   "cell_type": "code",
   "execution_count": 58,
   "id": "5bf02bc4",
   "metadata": {},
   "outputs": [
    {
     "name": "stdout",
     "output_type": "stream",
     "text": [
      "df : (889, 11)\n",
      "df1 : (818, 11)\n"
     ]
    }
   ],
   "source": [
    "print('df :',df.shape)\n",
    "print('df1 :',df1.shape)"
   ]
  },
  {
   "cell_type": "markdown",
   "id": "8bf761ac",
   "metadata": {},
   "source": [
    "we can see in df1 818 rows are there , where as in df dataset 889 rows present , means the outliers are removed "
   ]
  },
  {
   "cell_type": "code",
   "execution_count": 59,
   "id": "b145fc0e",
   "metadata": {},
   "outputs": [
    {
     "name": "stdout",
     "output_type": "stream",
     "text": [
      "Percentage of data loss  7.986501687289089\n"
     ]
    }
   ],
   "source": [
    "print('Percentage of data loss ',((df.shape[0]-df1.shape[0])/df.shape[0])*100)"
   ]
  },
  {
   "cell_type": "markdown",
   "id": "09e960e7",
   "metadata": {},
   "source": [
    "The Data loss percenatage using the zscore method is 7% "
   ]
  },
  {
   "cell_type": "code",
   "execution_count": 65,
   "id": "3239db54",
   "metadata": {},
   "outputs": [
    {
     "data": {
      "text/plain": [
       "Embarked      -1.273629\n",
       "Sex           -0.671699\n",
       "Pclass        -0.639191\n",
       "PassengerId    0.003468\n",
       "Name           0.010237\n",
       "Ticket         0.037788\n",
       "Age            0.311150\n",
       "Survived       0.457268\n",
       "SibSp          1.975774\n",
       "Parch          2.118544\n",
       "Fare           2.342849\n",
       "dtype: float64"
      ]
     },
     "execution_count": 65,
     "metadata": {},
     "output_type": "execute_result"
    }
   ],
   "source": [
    "df1.skew().sort_values(ascending=True)"
   ]
  },
  {
   "cell_type": "markdown",
   "id": "e5f63fb4",
   "metadata": {},
   "source": [
    "little skewness present in dataset we remove using the cube root method"
   ]
  },
  {
   "cell_type": "code",
   "execution_count": 66,
   "id": "83cf1fab",
   "metadata": {},
   "outputs": [],
   "source": [
    "df1=np.cbrt(df)"
   ]
  },
  {
   "cell_type": "code",
   "execution_count": 69,
   "id": "a5f74a6c",
   "metadata": {},
   "outputs": [
    {
     "data": {
      "text/plain": [
       "Embarked      -1.517158\n",
       "Age           -1.379944\n",
       "Ticket        -0.891062\n",
       "Name          -0.882142\n",
       "PassengerId   -0.854462\n",
       "Pclass        -0.784205\n",
       "Sex           -0.625625\n",
       "Survived       0.484568\n",
       "SibSp          1.029610\n",
       "Fare           1.240647\n",
       "Parch          1.344861\n",
       "dtype: float64"
      ]
     },
     "execution_count": 69,
     "metadata": {},
     "output_type": "execute_result"
    }
   ],
   "source": [
    "df1.skew().sort_values(ascending=True)"
   ]
  },
  {
   "cell_type": "code",
   "execution_count": 75,
   "id": "8010b0c8",
   "metadata": {},
   "outputs": [
    {
     "data": {
      "image/png": "[encoded data removed]",
      "text/plain": [
       "<Figure size 1080x720 with 11 Axes>"
      ]
     },
     "metadata": {
      "needs_background": "light"
     },
     "output_type": "display_data"
    }
   ],
   "source": [
    "plt.figure(figsize=(15,10))\n",
    "\n",
    "p=1\n",
    "\n",
    "for i in df1.columns:\n",
    "    if p<15:\n",
    "        plt.subplot(5,3,p)\n",
    "        sns.distplot(df[i])\n",
    "        plt.xlabel('Density')\n",
    "        plt.ylabel(i)\n",
    "    p+=1\n",
    "plt.show()"
   ]
  },
  {
   "cell_type": "markdown",
   "id": "525e4be8",
   "metadata": {},
   "source": [
    "we can see the skewness is removed from all the columns "
   ]
  },
  {
   "cell_type": "code",
   "execution_count": 76,
   "id": "ac6799b2",
   "metadata": {},
   "outputs": [
    {
     "data": {
      "text/html": [
       "<div>\n",
       "<style scoped>\n",
       "    .dataframe tbody tr th:only-of-type {\n",
       "        vertical-align: middle;\n",
       "    }\n",
       "\n",
       "    .dataframe tbody tr th {\n",
       "        vertical-align: top;\n",
       "    }\n",
       "\n",
       "    .dataframe thead th {\n",
       "        text-align: right;\n",
       "    }\n",
       "</style>\n",
       "<table border=\"1\" class=\"dataframe\">\n",
       "  <thead>\n",
       "    <tr style=\"text-align: right;\">\n",
       "      <th></th>\n",
       "      <th>PassengerId</th>\n",
       "      <th>Pclass</th>\n",
       "      <th>Name</th>\n",
       "      <th>Sex</th>\n",
       "      <th>Age</th>\n",
       "      <th>SibSp</th>\n",
       "      <th>Parch</th>\n",
       "      <th>Ticket</th>\n",
       "      <th>Fare</th>\n",
       "      <th>Embarked</th>\n",
       "    </tr>\n",
       "  </thead>\n",
       "  <tbody>\n",
       "    <tr>\n",
       "      <th>0</th>\n",
       "      <td>1.000000</td>\n",
       "      <td>1.442250</td>\n",
       "      <td>4.762203</td>\n",
       "      <td>1.0</td>\n",
       "      <td>2.802039</td>\n",
       "      <td>1.0</td>\n",
       "      <td>0.000000</td>\n",
       "      <td>8.051748</td>\n",
       "      <td>1.935438</td>\n",
       "      <td>1.259921</td>\n",
       "    </tr>\n",
       "    <tr>\n",
       "      <th>1</th>\n",
       "      <td>1.259921</td>\n",
       "      <td>1.000000</td>\n",
       "      <td>5.748897</td>\n",
       "      <td>0.0</td>\n",
       "      <td>3.361975</td>\n",
       "      <td>1.0</td>\n",
       "      <td>0.000000</td>\n",
       "      <td>8.410833</td>\n",
       "      <td>4.146318</td>\n",
       "      <td>0.000000</td>\n",
       "    </tr>\n",
       "    <tr>\n",
       "      <th>2</th>\n",
       "      <td>1.442250</td>\n",
       "      <td>1.442250</td>\n",
       "      <td>7.067377</td>\n",
       "      <td>0.0</td>\n",
       "      <td>2.962496</td>\n",
       "      <td>0.0</td>\n",
       "      <td>0.000000</td>\n",
       "      <td>8.741625</td>\n",
       "      <td>1.993730</td>\n",
       "      <td>1.259921</td>\n",
       "    </tr>\n",
       "    <tr>\n",
       "      <th>3</th>\n",
       "      <td>1.587401</td>\n",
       "      <td>1.000000</td>\n",
       "      <td>6.479224</td>\n",
       "      <td>0.0</td>\n",
       "      <td>3.271066</td>\n",
       "      <td>1.0</td>\n",
       "      <td>0.000000</td>\n",
       "      <td>3.634241</td>\n",
       "      <td>3.758647</td>\n",
       "      <td>1.259921</td>\n",
       "    </tr>\n",
       "    <tr>\n",
       "      <th>4</th>\n",
       "      <td>1.709976</td>\n",
       "      <td>1.442250</td>\n",
       "      <td>2.466212</td>\n",
       "      <td>1.0</td>\n",
       "      <td>3.271066</td>\n",
       "      <td>0.0</td>\n",
       "      <td>0.000000</td>\n",
       "      <td>7.780490</td>\n",
       "      <td>2.004158</td>\n",
       "      <td>1.259921</td>\n",
       "    </tr>\n",
       "    <tr>\n",
       "      <th>...</th>\n",
       "      <td>...</td>\n",
       "      <td>...</td>\n",
       "      <td>...</td>\n",
       "      <td>...</td>\n",
       "      <td>...</td>\n",
       "      <td>...</td>\n",
       "      <td>...</td>\n",
       "      <td>...</td>\n",
       "      <td>...</td>\n",
       "      <td>...</td>\n",
       "    </tr>\n",
       "    <tr>\n",
       "      <th>886</th>\n",
       "      <td>9.608182</td>\n",
       "      <td>1.259921</td>\n",
       "      <td>8.178289</td>\n",
       "      <td>1.0</td>\n",
       "      <td>3.000000</td>\n",
       "      <td>0.0</td>\n",
       "      <td>0.000000</td>\n",
       "      <td>4.641589</td>\n",
       "      <td>2.351335</td>\n",
       "      <td>1.259921</td>\n",
       "    </tr>\n",
       "    <tr>\n",
       "      <th>887</th>\n",
       "      <td>9.611791</td>\n",
       "      <td>1.000000</td>\n",
       "      <td>6.716570</td>\n",
       "      <td>0.0</td>\n",
       "      <td>2.668402</td>\n",
       "      <td>0.0</td>\n",
       "      <td>0.000000</td>\n",
       "      <td>2.410142</td>\n",
       "      <td>3.107233</td>\n",
       "      <td>1.259921</td>\n",
       "    </tr>\n",
       "    <tr>\n",
       "      <th>888</th>\n",
       "      <td>9.615398</td>\n",
       "      <td>1.442250</td>\n",
       "      <td>7.441019</td>\n",
       "      <td>0.0</td>\n",
       "      <td>3.096810</td>\n",
       "      <td>1.0</td>\n",
       "      <td>1.259921</td>\n",
       "      <td>8.767719</td>\n",
       "      <td>2.862294</td>\n",
       "      <td>1.259921</td>\n",
       "    </tr>\n",
       "    <tr>\n",
       "      <th>889</th>\n",
       "      <td>9.619002</td>\n",
       "      <td>1.000000</td>\n",
       "      <td>4.326749</td>\n",
       "      <td>1.0</td>\n",
       "      <td>2.962496</td>\n",
       "      <td>0.0</td>\n",
       "      <td>0.000000</td>\n",
       "      <td>2.000000</td>\n",
       "      <td>3.107233</td>\n",
       "      <td>0.000000</td>\n",
       "    </tr>\n",
       "    <tr>\n",
       "      <th>890</th>\n",
       "      <td>9.622603</td>\n",
       "      <td>1.442250</td>\n",
       "      <td>6.036811</td>\n",
       "      <td>1.0</td>\n",
       "      <td>3.174802</td>\n",
       "      <td>0.0</td>\n",
       "      <td>0.000000</td>\n",
       "      <td>7.747311</td>\n",
       "      <td>1.978946</td>\n",
       "      <td>1.000000</td>\n",
       "    </tr>\n",
       "  </tbody>\n",
       "</table>\n",
       "<p>889 rows × 10 columns</p>\n",
       "</div>"
      ],
      "text/plain": [
       "     PassengerId    Pclass      Name  Sex       Age  SibSp     Parch  \\\n",
       "0       1.000000  1.442250  4.762203  1.0  2.802039    1.0  0.000000   \n",
       "1       1.259921  1.000000  5.748897  0.0  3.361975    1.0  0.000000   \n",
       "2       1.442250  1.442250  7.067377  0.0  2.962496    0.0  0.000000   \n",
       "3       1.587401  1.000000  6.479224  0.0  3.271066    1.0  0.000000   \n",
       "4       1.709976  1.442250  2.466212  1.0  3.271066    0.0  0.000000   \n",
       "..           ...       ...       ...  ...       ...    ...       ...   \n",
       "886     9.608182  1.259921  8.178289  1.0  3.000000    0.0  0.000000   \n",
       "887     9.611791  1.000000  6.716570  0.0  2.668402    0.0  0.000000   \n",
       "888     9.615398  1.442250  7.441019  0.0  3.096810    1.0  1.259921   \n",
       "889     9.619002  1.000000  4.326749  1.0  2.962496    0.0  0.000000   \n",
       "890     9.622603  1.442250  6.036811  1.0  3.174802    0.0  0.000000   \n",
       "\n",
       "       Ticket      Fare  Embarked  \n",
       "0    8.051748  1.935438  1.259921  \n",
       "1    8.410833  4.146318  0.000000  \n",
       "2    8.741625  1.993730  1.259921  \n",
       "3    3.634241  3.758647  1.259921  \n",
       "4    7.780490  2.004158  1.259921  \n",
       "..        ...       ...       ...  \n",
       "886  4.641589  2.351335  1.259921  \n",
       "887  2.410142  3.107233  1.259921  \n",
       "888  8.767719  2.862294  1.259921  \n",
       "889  2.000000  3.107233  0.000000  \n",
       "890  7.747311  1.978946  1.000000  \n",
       "\n",
       "[889 rows x 10 columns]"
      ]
     },
     "execution_count": 76,
     "metadata": {},
     "output_type": "execute_result"
    }
   ],
   "source": [
    "x=df1.drop('Survived',axis=1)\n",
    "x"
   ]
  },
  {
   "cell_type": "markdown",
   "id": "91e7a220",
   "metadata": {},
   "source": [
    "Separating x data for splitting to train and test"
   ]
  },
  {
   "cell_type": "code",
   "execution_count": 78,
   "id": "f8392a4c",
   "metadata": {},
   "outputs": [
    {
     "data": {
      "text/plain": [
       "0      0.0\n",
       "1      1.0\n",
       "2      1.0\n",
       "3      1.0\n",
       "4      0.0\n",
       "      ... \n",
       "886    0.0\n",
       "887    1.0\n",
       "888    0.0\n",
       "889    1.0\n",
       "890    0.0\n",
       "Name: Survived, Length: 889, dtype: float64"
      ]
     },
     "execution_count": 78,
     "metadata": {},
     "output_type": "execute_result"
    }
   ],
   "source": [
    "y=df1['Survived']\n",
    "y"
   ]
  },
  {
   "cell_type": "markdown",
   "id": "fcb9ad76",
   "metadata": {},
   "source": [
    "separated the y data "
   ]
  },
  {
   "cell_type": "code",
   "execution_count": 79,
   "id": "d65508bc",
   "metadata": {},
   "outputs": [
    {
     "data": {
      "text/html": [
       "<div>\n",
       "<style scoped>\n",
       "    .dataframe tbody tr th:only-of-type {\n",
       "        vertical-align: middle;\n",
       "    }\n",
       "\n",
       "    .dataframe tbody tr th {\n",
       "        vertical-align: top;\n",
       "    }\n",
       "\n",
       "    .dataframe thead th {\n",
       "        text-align: right;\n",
       "    }\n",
       "</style>\n",
       "<table border=\"1\" class=\"dataframe\">\n",
       "  <thead>\n",
       "    <tr style=\"text-align: right;\">\n",
       "      <th></th>\n",
       "      <th>PassengerId</th>\n",
       "      <th>Pclass</th>\n",
       "      <th>Name</th>\n",
       "      <th>Sex</th>\n",
       "      <th>Age</th>\n",
       "      <th>SibSp</th>\n",
       "      <th>Parch</th>\n",
       "      <th>Ticket</th>\n",
       "      <th>Fare</th>\n",
       "      <th>Embarked</th>\n",
       "    </tr>\n",
       "  </thead>\n",
       "  <tbody>\n",
       "    <tr>\n",
       "      <th>0</th>\n",
       "      <td>-3.354844</td>\n",
       "      <td>0.791742</td>\n",
       "      <td>-1.306660</td>\n",
       "      <td>0.735342</td>\n",
       "      <td>-0.371634</td>\n",
       "      <td>1.185287</td>\n",
       "      <td>-0.552463</td>\n",
       "      <td>0.846927</td>\n",
       "      <td>-0.772405</td>\n",
       "      <td>0.534289</td>\n",
       "    </tr>\n",
       "    <tr>\n",
       "      <th>1</th>\n",
       "      <td>-3.214725</td>\n",
       "      <td>-1.636539</td>\n",
       "      <td>-0.779053</td>\n",
       "      <td>-1.359911</td>\n",
       "      <td>0.648366</td>\n",
       "      <td>1.185287</td>\n",
       "      <td>-0.552463</td>\n",
       "      <td>1.050315</td>\n",
       "      <td>1.292708</td>\n",
       "      <td>-2.048752</td>\n",
       "    </tr>\n",
       "    <tr>\n",
       "      <th>2</th>\n",
       "      <td>-3.116435</td>\n",
       "      <td>0.791742</td>\n",
       "      <td>-0.074033</td>\n",
       "      <td>-1.359911</td>\n",
       "      <td>-0.079340</td>\n",
       "      <td>-0.661650</td>\n",
       "      <td>-0.552463</td>\n",
       "      <td>1.237678</td>\n",
       "      <td>-0.717956</td>\n",
       "      <td>0.534289</td>\n",
       "    </tr>\n",
       "    <tr>\n",
       "      <th>3</th>\n",
       "      <td>-3.038187</td>\n",
       "      <td>-1.636539</td>\n",
       "      <td>-0.388532</td>\n",
       "      <td>-1.359911</td>\n",
       "      <td>0.482763</td>\n",
       "      <td>1.185287</td>\n",
       "      <td>-0.552463</td>\n",
       "      <td>-1.655180</td>\n",
       "      <td>0.930597</td>\n",
       "      <td>0.534289</td>\n",
       "    </tr>\n",
       "    <tr>\n",
       "      <th>4</th>\n",
       "      <td>-2.972109</td>\n",
       "      <td>0.791742</td>\n",
       "      <td>-2.534377</td>\n",
       "      <td>0.735342</td>\n",
       "      <td>0.482763</td>\n",
       "      <td>-0.661650</td>\n",
       "      <td>-0.552463</td>\n",
       "      <td>0.693285</td>\n",
       "      <td>-0.708216</td>\n",
       "      <td>0.534289</td>\n",
       "    </tr>\n",
       "    <tr>\n",
       "      <th>...</th>\n",
       "      <td>...</td>\n",
       "      <td>...</td>\n",
       "      <td>...</td>\n",
       "      <td>...</td>\n",
       "      <td>...</td>\n",
       "      <td>...</td>\n",
       "      <td>...</td>\n",
       "      <td>...</td>\n",
       "      <td>...</td>\n",
       "      <td>...</td>\n",
       "    </tr>\n",
       "    <tr>\n",
       "      <th>884</th>\n",
       "      <td>1.285663</td>\n",
       "      <td>-0.209378</td>\n",
       "      <td>0.519996</td>\n",
       "      <td>0.735342</td>\n",
       "      <td>-0.011022</td>\n",
       "      <td>-0.661650</td>\n",
       "      <td>-0.552463</td>\n",
       "      <td>-1.084611</td>\n",
       "      <td>-0.383929</td>\n",
       "      <td>0.534289</td>\n",
       "    </tr>\n",
       "    <tr>\n",
       "      <th>885</th>\n",
       "      <td>1.287609</td>\n",
       "      <td>-1.636539</td>\n",
       "      <td>-0.261617</td>\n",
       "      <td>-1.359911</td>\n",
       "      <td>-0.615074</td>\n",
       "      <td>-0.661650</td>\n",
       "      <td>-0.552463</td>\n",
       "      <td>-2.348519</td>\n",
       "      <td>0.322131</td>\n",
       "      <td>0.534289</td>\n",
       "    </tr>\n",
       "    <tr>\n",
       "      <th>886</th>\n",
       "      <td>1.289553</td>\n",
       "      <td>0.791742</td>\n",
       "      <td>0.125761</td>\n",
       "      <td>-1.359911</td>\n",
       "      <td>0.165330</td>\n",
       "      <td>1.185287</td>\n",
       "      <td>1.996949</td>\n",
       "      <td>1.252458</td>\n",
       "      <td>0.093342</td>\n",
       "      <td>0.534289</td>\n",
       "    </tr>\n",
       "    <tr>\n",
       "      <th>887</th>\n",
       "      <td>1.291496</td>\n",
       "      <td>-1.636539</td>\n",
       "      <td>-1.539507</td>\n",
       "      <td>0.735342</td>\n",
       "      <td>-0.079340</td>\n",
       "      <td>-0.661650</td>\n",
       "      <td>-0.552463</td>\n",
       "      <td>-2.580826</td>\n",
       "      <td>0.322131</td>\n",
       "      <td>-2.048752</td>\n",
       "    </tr>\n",
       "    <tr>\n",
       "      <th>888</th>\n",
       "      <td>1.293437</td>\n",
       "      <td>0.791742</td>\n",
       "      <td>-0.625100</td>\n",
       "      <td>0.735342</td>\n",
       "      <td>0.307404</td>\n",
       "      <td>-0.661650</td>\n",
       "      <td>-0.552463</td>\n",
       "      <td>0.674492</td>\n",
       "      <td>-0.731766</td>\n",
       "      <td>0.001409</td>\n",
       "    </tr>\n",
       "  </tbody>\n",
       "</table>\n",
       "<p>889 rows × 10 columns</p>\n",
       "</div>"
      ],
      "text/plain": [
       "     PassengerId    Pclass      Name       Sex       Age     SibSp     Parch  \\\n",
       "0      -3.354844  0.791742 -1.306660  0.735342 -0.371634  1.185287 -0.552463   \n",
       "1      -3.214725 -1.636539 -0.779053 -1.359911  0.648366  1.185287 -0.552463   \n",
       "2      -3.116435  0.791742 -0.074033 -1.359911 -0.079340 -0.661650 -0.552463   \n",
       "3      -3.038187 -1.636539 -0.388532 -1.359911  0.482763  1.185287 -0.552463   \n",
       "4      -2.972109  0.791742 -2.534377  0.735342  0.482763 -0.661650 -0.552463   \n",
       "..           ...       ...       ...       ...       ...       ...       ...   \n",
       "884     1.285663 -0.209378  0.519996  0.735342 -0.011022 -0.661650 -0.552463   \n",
       "885     1.287609 -1.636539 -0.261617 -1.359911 -0.615074 -0.661650 -0.552463   \n",
       "886     1.289553  0.791742  0.125761 -1.359911  0.165330  1.185287  1.996949   \n",
       "887     1.291496 -1.636539 -1.539507  0.735342 -0.079340 -0.661650 -0.552463   \n",
       "888     1.293437  0.791742 -0.625100  0.735342  0.307404 -0.661650 -0.552463   \n",
       "\n",
       "       Ticket      Fare  Embarked  \n",
       "0    0.846927 -0.772405  0.534289  \n",
       "1    1.050315  1.292708 -2.048752  \n",
       "2    1.237678 -0.717956  0.534289  \n",
       "3   -1.655180  0.930597  0.534289  \n",
       "4    0.693285 -0.708216  0.534289  \n",
       "..        ...       ...       ...  \n",
       "884 -1.084611 -0.383929  0.534289  \n",
       "885 -2.348519  0.322131  0.534289  \n",
       "886  1.252458  0.093342  0.534289  \n",
       "887 -2.580826  0.322131 -2.048752  \n",
       "888  0.674492 -0.731766  0.001409  \n",
       "\n",
       "[889 rows x 10 columns]"
      ]
     },
     "execution_count": 79,
     "metadata": {},
     "output_type": "execute_result"
    }
   ],
   "source": [
    "from sklearn.preprocessing import StandardScaler\n",
    "sc=StandardScaler()\n",
    "df=pd.DataFrame(sc.fit_transform(x),columns=x.columns)\n",
    "df"
   ]
  },
  {
   "cell_type": "markdown",
   "id": "565307b0",
   "metadata": {},
   "source": [
    "Using the StandardScaler for standardize the data with mean is equal to the zero"
   ]
  },
  {
   "cell_type": "code",
   "execution_count": 80,
   "id": "15de3ed2",
   "metadata": {},
   "outputs": [
    {
     "data": {
      "text/html": [
       "<div>\n",
       "<style scoped>\n",
       "    .dataframe tbody tr th:only-of-type {\n",
       "        vertical-align: middle;\n",
       "    }\n",
       "\n",
       "    .dataframe tbody tr th {\n",
       "        vertical-align: top;\n",
       "    }\n",
       "\n",
       "    .dataframe thead th {\n",
       "        text-align: right;\n",
       "    }\n",
       "</style>\n",
       "<table border=\"1\" class=\"dataframe\">\n",
       "  <thead>\n",
       "    <tr style=\"text-align: right;\">\n",
       "      <th></th>\n",
       "      <th>VIF Values</th>\n",
       "      <th>VIF Features</th>\n",
       "    </tr>\n",
       "  </thead>\n",
       "  <tbody>\n",
       "    <tr>\n",
       "      <th>0</th>\n",
       "      <td>15.421663</td>\n",
       "      <td>PassengerId</td>\n",
       "    </tr>\n",
       "    <tr>\n",
       "      <th>1</th>\n",
       "      <td>49.098271</td>\n",
       "      <td>Pclass</td>\n",
       "    </tr>\n",
       "    <tr>\n",
       "      <th>2</th>\n",
       "      <td>15.510123</td>\n",
       "      <td>Name</td>\n",
       "    </tr>\n",
       "    <tr>\n",
       "      <th>3</th>\n",
       "      <td>3.155874</td>\n",
       "      <td>Sex</td>\n",
       "    </tr>\n",
       "    <tr>\n",
       "      <th>4</th>\n",
       "      <td>30.504356</td>\n",
       "      <td>Age</td>\n",
       "    </tr>\n",
       "    <tr>\n",
       "      <th>5</th>\n",
       "      <td>2.072648</td>\n",
       "      <td>SibSp</td>\n",
       "    </tr>\n",
       "    <tr>\n",
       "      <th>6</th>\n",
       "      <td>2.045867</td>\n",
       "      <td>Parch</td>\n",
       "    </tr>\n",
       "    <tr>\n",
       "      <th>7</th>\n",
       "      <td>19.334023</td>\n",
       "      <td>Ticket</td>\n",
       "    </tr>\n",
       "    <tr>\n",
       "      <th>8</th>\n",
       "      <td>11.231514</td>\n",
       "      <td>Fare</td>\n",
       "    </tr>\n",
       "    <tr>\n",
       "      <th>9</th>\n",
       "      <td>5.664972</td>\n",
       "      <td>Embarked</td>\n",
       "    </tr>\n",
       "  </tbody>\n",
       "</table>\n",
       "</div>"
      ],
      "text/plain": [
       "   VIF Values VIF Features\n",
       "0   15.421663  PassengerId\n",
       "1   49.098271       Pclass\n",
       "2   15.510123         Name\n",
       "3    3.155874          Sex\n",
       "4   30.504356          Age\n",
       "5    2.072648        SibSp\n",
       "6    2.045867        Parch\n",
       "7   19.334023       Ticket\n",
       "8   11.231514         Fare\n",
       "9    5.664972     Embarked"
      ]
     },
     "execution_count": 80,
     "metadata": {},
     "output_type": "execute_result"
    }
   ],
   "source": [
    "from statsmodels.stats.outliers_influence import variance_inflation_factor\n",
    "vif=pd.DataFrame()\n",
    "vif['VIF Values']=[variance_inflation_factor(x.values,i)\n",
    "                  for i in range(len(x.columns))]\n",
    "vif['VIF Features']=x.columns\n",
    "vif"
   ]
  },
  {
   "cell_type": "markdown",
   "id": "d403bf92",
   "metadata": {},
   "source": [
    "checking the variance inflation factor , because we have check the multi colinearity of the dataset"
   ]
  },
  {
   "cell_type": "code",
   "execution_count": null,
   "id": "409701b2",
   "metadata": {},
   "outputs": [],
   "source": [
    "y.value_count()"
   ]
  },
  {
   "cell_type": "markdown",
   "id": "f523226d",
   "metadata": {},
   "source": [
    "target colunm is not having the equal number values for 0 and 1"
   ]
  },
  {
   "cell_type": "code",
   "execution_count": 82,
   "id": "1050b08e",
   "metadata": {},
   "outputs": [],
   "source": [
    "from imblearn.over_sampling import SMOTE\n",
    "sm=SMOTE()\n",
    "x,y=sm.fit_resample(x,y)"
   ]
  },
  {
   "cell_type": "markdown",
   "id": "6117a40e",
   "metadata": {},
   "source": [
    "Importing the SMOTE fuction to equal the target variable and x columns "
   ]
  },
  {
   "cell_type": "code",
   "execution_count": 83,
   "id": "20cfd3f6",
   "metadata": {},
   "outputs": [
    {
     "data": {
      "text/plain": [
       "0.0    549\n",
       "1.0    549\n",
       "Name: Survived, dtype: int64"
      ]
     },
     "execution_count": 83,
     "metadata": {},
     "output_type": "execute_result"
    }
   ],
   "source": [
    "y.value_counts()"
   ]
  },
  {
   "cell_type": "markdown",
   "id": "6fb4d314",
   "metadata": {},
   "source": [
    "now we can see value counts for target variable are equal"
   ]
  },
  {
   "cell_type": "markdown",
   "id": "d497bc21",
   "metadata": {},
   "source": [
    "# Modelling"
   ]
  },
  {
   "cell_type": "markdown",
   "id": "acfa2e70",
   "metadata": {},
   "source": [
    "By seeing the target varible i can clearly say that its an binary classification model "
   ]
  },
  {
   "cell_type": "code",
   "execution_count": 84,
   "id": "927a1204",
   "metadata": {},
   "outputs": [],
   "source": [
    "from sklearn.tree import DecisionTreeClassifier\n",
    "from sklearn.metrics import accuracy_score,classification_report,confusion_matrix\n",
    "dtc=DecisionTreeClassifier\n",
    "from sklearn.model_selection import train_test_split"
   ]
  },
  {
   "cell_type": "markdown",
   "id": "132c84aa",
   "metadata": {},
   "source": [
    "Importing the nessasary lybrary to perform the modelling"
   ]
  },
  {
   "cell_type": "code",
   "execution_count": 85,
   "id": "61c45823",
   "metadata": {},
   "outputs": [
    {
     "name": "stdout",
     "output_type": "stream",
     "text": [
      "Best Accuracy is 91.21212121212122 at random_state  703\n"
     ]
    }
   ],
   "source": [
    "from sklearn.model_selection import train_test_split\n",
    "from sklearn.ensemble import RandomForestClassifier\n",
    "from sklearn.metrics import accuracy_score\n",
    "maxAccu=0\n",
    "maxRs=0\n",
    "for i in range(1,800):\n",
    "    x_train,x_test,y_train,y_test=train_test_split(x,y,test_size=.30,random_state=i)\n",
    "    RFR=RandomForestClassifier()\n",
    "    RFR.fit(x_train,y_train)\n",
    "    pred=RFR.predict(x_test)\n",
    "    acc=accuracy_score(y_test,pred)\n",
    "    if acc>maxAccu:\n",
    "        maxAccu=acc\n",
    "        maxRs=i\n",
    "print(\"Best Accuracy is\", maxAccu*100,\"at random_state \",maxRs)"
   ]
  },
  {
   "cell_type": "markdown",
   "id": "8e82a174",
   "metadata": {},
   "source": [
    "checking for best random state value for the model performence\n",
    "\n",
    "got the Best accuracy score =91.2   at the random state value of 703"
   ]
  },
  {
   "cell_type": "code",
   "execution_count": 86,
   "id": "d354d3c0",
   "metadata": {},
   "outputs": [],
   "source": [
    "from sklearn.linear_model import LogisticRegression\n",
    "from sklearn.naive_bayes import MultinomialNB,GaussianNB\n",
    "from sklearn.svm import SVC\n",
    "from sklearn.ensemble import GradientBoostingClassifier,AdaBoostClassifier,BaggingClassifier,RandomForestClassifier,ExtraTreesClassifier"
   ]
  },
  {
   "cell_type": "markdown",
   "id": "d095b828",
   "metadata": {},
   "source": [
    "importing the other lybraries also to find the best one"
   ]
  },
  {
   "cell_type": "code",
   "execution_count": 87,
   "id": "0b5924a8",
   "metadata": {},
   "outputs": [],
   "source": [
    "x_train,x_test,y_train,y_test=train_test_split(x,y,test_size=0.30,random_state=703)"
   ]
  },
  {
   "cell_type": "markdown",
   "id": "14b3914c",
   "metadata": {},
   "source": [
    "splitting the data into train data and test data separately"
   ]
  },
  {
   "cell_type": "code",
   "execution_count": 88,
   "id": "928dfd04",
   "metadata": {},
   "outputs": [
    {
     "name": "stdout",
     "output_type": "stream",
     "text": [
      "Accuracy_score is 76.66666666666667\n",
      "Classification Report \n",
      "               precision    recall  f1-score   support\n",
      "\n",
      "         0.0       0.78      0.76      0.77       169\n",
      "         1.0       0.75      0.78      0.76       161\n",
      "\n",
      "    accuracy                           0.77       330\n",
      "   macro avg       0.77      0.77      0.77       330\n",
      "weighted avg       0.77      0.77      0.77       330\n",
      "\n",
      "confusion Matrix \n",
      " [[128  41]\n",
      " [ 36 125]]\n"
     ]
    }
   ],
   "source": [
    "mn=MultinomialNB()\n",
    "mn.fit(x_train,y_train)\n",
    "predmn=mn.predict(x_test)\n",
    "print('Accuracy_score is',((accuracy_score(y_test,predmn))*100))\n",
    "print('Classification Report','\\n',classification_report(y_test,predmn))\n",
    "print('confusion Matrix','\\n',confusion_matrix(y_test,predmn))"
   ]
  },
  {
   "cell_type": "markdown",
   "id": "db305c3a",
   "metadata": {},
   "source": [
    "starting with MultinomialNB \n",
    "Accuracy score is just 76%\n",
    "f1 score is 0.77 and precision is 0.78"
   ]
  },
  {
   "cell_type": "code",
   "execution_count": 89,
   "id": "4f130d65",
   "metadata": {},
   "outputs": [
    {
     "name": "stdout",
     "output_type": "stream",
     "text": [
      "Accuracy Score 78.78787878787878\n",
      "              precision    recall  f1-score   support\n",
      "\n",
      "         0.0       0.82      0.75      0.78       169\n",
      "         1.0       0.76      0.83      0.79       161\n",
      "\n",
      "    accuracy                           0.79       330\n",
      "   macro avg       0.79      0.79      0.79       330\n",
      "weighted avg       0.79      0.79      0.79       330\n",
      "\n",
      "[[126  43]\n",
      " [ 27 134]]\n"
     ]
    }
   ],
   "source": [
    "gn=GaussianNB()\n",
    "gn.fit(x_train,y_train)\n",
    "predgn=gn.predict(x_test)\n",
    "print('Accuracy Score',(accuracy_score(y_test,predgn))*100)\n",
    "print(classification_report(y_test,predgn))\n",
    "print(confusion_matrix(y_test,predgn))"
   ]
  },
  {
   "cell_type": "markdown",
   "id": "84226db8",
   "metadata": {},
   "source": [
    "with GaussionNB the Accuracy score is 78%\n",
    "\n",
    "f1 score 0.78\n",
    "\n",
    "precision is 0.82"
   ]
  },
  {
   "cell_type": "code",
   "execution_count": 90,
   "id": "52721caa",
   "metadata": {},
   "outputs": [
    {
     "name": "stdout",
     "output_type": "stream",
     "text": [
      "Accuracy Score 83.63636363636363\n",
      "              precision    recall  f1-score   support\n",
      "\n",
      "         0.0       0.85      0.83      0.84       169\n",
      "         1.0       0.82      0.84      0.83       161\n",
      "\n",
      "    accuracy                           0.84       330\n",
      "   macro avg       0.84      0.84      0.84       330\n",
      "weighted avg       0.84      0.84      0.84       330\n",
      "\n",
      "[[140  29]\n",
      " [ 25 136]]\n"
     ]
    }
   ],
   "source": [
    "from sklearn.tree import DecisionTreeClassifier\n",
    "dtc=DecisionTreeClassifier()\n",
    "dtc.fit(x_train,y_train)\n",
    "preddtc=dtc.predict(x_test)\n",
    "print('Accuracy Score',accuracy_score(y_test,preddtc)*100)\n",
    "print(classification_report(y_test,preddtc))\n",
    "print(confusion_matrix(y_test,preddtc))"
   ]
  },
  {
   "cell_type": "markdown",
   "id": "40d480b0",
   "metadata": {},
   "source": [
    "with DecisionTreeClassifier Accuracy score is 83%\n",
    "\n",
    "f1-score is 0.84\n",
    "\n",
    "prescision is 0.85\n"
   ]
  },
  {
   "cell_type": "code",
   "execution_count": 91,
   "id": "26969448",
   "metadata": {},
   "outputs": [
    {
     "name": "stdout",
     "output_type": "stream",
     "text": [
      "Accuracy_score 81.81818181818183\n",
      "              precision    recall  f1-score   support\n",
      "\n",
      "         0.0       0.81      0.84      0.83       169\n",
      "         1.0       0.83      0.80      0.81       161\n",
      "\n",
      "    accuracy                           0.82       330\n",
      "   macro avg       0.82      0.82      0.82       330\n",
      "weighted avg       0.82      0.82      0.82       330\n",
      "\n",
      "[[142  27]\n",
      " [ 33 128]]\n"
     ]
    }
   ],
   "source": [
    "svc=SVC()\n",
    "svc.fit(x_train,y_train)\n",
    "predsvc=svc.predict(x_test)\n",
    "print('Accuracy_score',accuracy_score(y_test,predsvc)*100)\n",
    "print(classification_report(y_test,predsvc))\n",
    "print(confusion_matrix(y_test,predsvc))"
   ]
  },
  {
   "cell_type": "markdown",
   "id": "bde80ca0",
   "metadata": {},
   "source": [
    "with Support vector classifier accuracy score is 81%\n",
    "\n",
    "f1-score is 0.83\n",
    "\n",
    "precision is 0.81"
   ]
  },
  {
   "cell_type": "code",
   "execution_count": 92,
   "id": "83910251",
   "metadata": {},
   "outputs": [
    {
     "name": "stdout",
     "output_type": "stream",
     "text": [
      "Accuracy score 86.06060606060606\n",
      "              precision    recall  f1-score   support\n",
      "\n",
      "         0.0       0.87      0.85      0.86       169\n",
      "         1.0       0.85      0.87      0.86       161\n",
      "\n",
      "    accuracy                           0.86       330\n",
      "   macro avg       0.86      0.86      0.86       330\n",
      "weighted avg       0.86      0.86      0.86       330\n",
      "\n",
      "[[144  25]\n",
      " [ 21 140]]\n"
     ]
    }
   ],
   "source": [
    "ad=AdaBoostClassifier()\n",
    "ad.fit(x_train,y_train)\n",
    "predad=ad.predict(x_test)\n",
    "print('Accuracy score',accuracy_score(y_test,predad)*100)\n",
    "print(classification_report(y_test,predad))\n",
    "print(confusion_matrix(y_test,predad))"
   ]
  },
  {
   "cell_type": "markdown",
   "id": "f22f5564",
   "metadata": {},
   "source": [
    "with AdaBoostClassifier the Accuracy score is 86%\n",
    "\n",
    "f1-score is 0.86\n",
    "\n",
    "precision is 0.87"
   ]
  },
  {
   "cell_type": "code",
   "execution_count": 93,
   "id": "01317606",
   "metadata": {},
   "outputs": [
    {
     "name": "stdout",
     "output_type": "stream",
     "text": [
      "Accuracy Score 89.6969696969697\n",
      "              precision    recall  f1-score   support\n",
      "\n",
      "         0.0       0.88      0.93      0.90       169\n",
      "         1.0       0.92      0.86      0.89       161\n",
      "\n",
      "    accuracy                           0.90       330\n",
      "   macro avg       0.90      0.90      0.90       330\n",
      "weighted avg       0.90      0.90      0.90       330\n",
      "\n",
      "[[157  12]\n",
      " [ 22 139]]\n"
     ]
    }
   ],
   "source": [
    "bg=BaggingClassifier()\n",
    "bg.fit(x_train,y_train)\n",
    "predbg=bg.predict(x_test)\n",
    "print('Accuracy Score',accuracy_score(y_test,predbg)*100)\n",
    "print(classification_report(y_test,predbg))\n",
    "print(confusion_matrix(y_test,predbg))"
   ]
  },
  {
   "cell_type": "markdown",
   "id": "ecbff332",
   "metadata": {},
   "source": [
    "with the Bagging classifier the accuracy score is 89%\n",
    "\n",
    "f1-score is 0.90\n",
    "\n",
    "precision is 0.90"
   ]
  },
  {
   "cell_type": "code",
   "execution_count": 94,
   "id": "135128ce",
   "metadata": {},
   "outputs": [
    {
     "name": "stdout",
     "output_type": "stream",
     "text": [
      "Accuracy score 88.7878787878788\n",
      "              precision    recall  f1-score   support\n",
      "\n",
      "         0.0       0.89      0.89      0.89       169\n",
      "         1.0       0.89      0.88      0.88       161\n",
      "\n",
      "    accuracy                           0.89       330\n",
      "   macro avg       0.89      0.89      0.89       330\n",
      "weighted avg       0.89      0.89      0.89       330\n",
      "\n",
      "[[151  18]\n",
      " [ 19 142]]\n"
     ]
    }
   ],
   "source": [
    "gb=GradientBoostingClassifier()\n",
    "gb.fit(x_train,y_train)\n",
    "predgb=gb.predict(x_test)\n",
    "print('Accuracy score',accuracy_score(y_test,predgb)*100)\n",
    "print(classification_report(y_test,predgb))\n",
    "print(confusion_matrix(y_test,predgb))"
   ]
  },
  {
   "cell_type": "markdown",
   "id": "19150c79",
   "metadata": {},
   "source": [
    "with GradientboostingClassifier the accuracy score is 88%\n",
    "\n",
    "f1-score is 0.89\n",
    "\n",
    "precision is 0.89\n"
   ]
  },
  {
   "cell_type": "code",
   "execution_count": 95,
   "id": "11e5379e",
   "metadata": {},
   "outputs": [
    {
     "name": "stdout",
     "output_type": "stream",
     "text": [
      "Accuracy score 89.6969696969697\n",
      "              precision    recall  f1-score   support\n",
      "\n",
      "         0.0       0.89      0.91      0.90       169\n",
      "         1.0       0.90      0.88      0.89       161\n",
      "\n",
      "    accuracy                           0.90       330\n",
      "   macro avg       0.90      0.90      0.90       330\n",
      "weighted avg       0.90      0.90      0.90       330\n",
      "\n",
      "[[154  15]\n",
      " [ 19 142]]\n"
     ]
    }
   ],
   "source": [
    "et=ExtraTreesClassifier()\n",
    "et.fit(x_train,y_train)\n",
    "predet=et.predict(x_test)\n",
    "print('Accuracy score',accuracy_score(y_test,predet)*100)\n",
    "print(classification_report(y_test,predet))\n",
    "print(confusion_matrix(y_test,predet))"
   ]
  },
  {
   "cell_type": "markdown",
   "id": "d35aa496",
   "metadata": {},
   "source": [
    "with the extraTreeClassifier the accuracy score is 89%\n",
    "\n",
    "f1-score is 0.90\n",
    "\n",
    "precision is 0.90"
   ]
  },
  {
   "cell_type": "code",
   "execution_count": 96,
   "id": "021eb50a",
   "metadata": {},
   "outputs": [
    {
     "name": "stdout",
     "output_type": "stream",
     "text": [
      "Accuracy score 90.6060606060606\n",
      "              precision    recall  f1-score   support\n",
      "\n",
      "         0.0       0.89      0.93      0.91       169\n",
      "         1.0       0.92      0.88      0.90       161\n",
      "\n",
      "    accuracy                           0.91       330\n",
      "   macro avg       0.91      0.91      0.91       330\n",
      "weighted avg       0.91      0.91      0.91       330\n",
      "\n",
      "[[157  12]\n",
      " [ 19 142]]\n"
     ]
    }
   ],
   "source": [
    "rd=RandomForestClassifier()\n",
    "rd.fit(x_train,y_train)\n",
    "predrd=rd.predict(x_test)\n",
    "print('Accuracy score',accuracy_score(y_test,predrd)*100)\n",
    "print(classification_report(y_test,predrd))\n",
    "print(confusion_matrix(y_test,predrd))"
   ]
  },
  {
   "cell_type": "markdown",
   "id": "2d785fcc",
   "metadata": {},
   "source": [
    "with RandomForestClassifier the accuracy score is 90%\n",
    "\n",
    "f1-score is 0.91\n",
    "\n",
    "precision is 0.91"
   ]
  },
  {
   "cell_type": "code",
   "execution_count": 98,
   "id": "e5391505",
   "metadata": {},
   "outputs": [],
   "source": [
    "from sklearn.model_selection import cross_val_score"
   ]
  },
  {
   "cell_type": "code",
   "execution_count": 100,
   "id": "542138a8",
   "metadata": {},
   "outputs": [
    {
     "name": "stdout",
     "output_type": "stream",
     "text": [
      "ExtraTreesClassifier\n",
      "score [80.         80.90909091 74.54545455 91.78082192 84.47488584]\n",
      "Mean Score 82.3420506434205\n",
      "\n",
      "\n",
      "AdaBoost\n",
      "score [42.27272727 43.18181818 34.54545455 43.83561644 42.46575342]\n",
      "Mean Score 41.26027397260274\n",
      "\n",
      "\n",
      "GradientBoost\n",
      "score [48.18181818 39.54545455 30.         47.94520548 43.83561644]\n",
      "Mean Score 41.901618929016195\n",
      "\n",
      "\n",
      "RandomForest\n",
      "score [77.27272727 71.36363636 54.54545455 87.67123288 47.94520548]\n",
      "Mean Score 67.75965130759651\n",
      "\n",
      "\n",
      "Bagging\n",
      "score [63.63636364 57.72727273 36.36363636 74.88584475 48.85844749]\n",
      "Mean Score 56.29431299294312\n",
      "\n",
      "\n",
      "Decision Tree\n",
      "score [44.54545455 46.81818182 44.54545455 79.9086758  48.85844749]\n",
      "Mean Score 52.935242839352426\n",
      "\n",
      "\n",
      "support vector\n",
      "score [73.18181818 80.90909091 71.36363636 80.82191781 79.45205479]\n",
      "Mean Score 77.14570361145705\n",
      "\n",
      "\n",
      "Multinomial\n",
      "score [62.72727273 78.18181818 71.81818182 75.34246575 71.23287671]\n",
      "Mean Score 71.86052303860522\n",
      "\n",
      "\n",
      "Gaussion\n",
      "score [65.         78.18181818 74.54545455 77.62557078 74.88584475]\n",
      "Mean Score 74.04773765047737\n",
      "\n",
      "\n"
     ]
    }
   ],
   "source": [
    "print('ExtraTreesClassifier')\n",
    "scoreet=cross_val_score(et,x,y,cv=5)\n",
    "print('score', scoreet*100)\n",
    "print('Mean Score',scoreet.mean()*100)\n",
    "print('\\n')\n",
    "\n",
    "print('AdaBoost')\n",
    "scoread=cross_val_score(ad,x,y,cv=5)\n",
    "print('score', scoread*100)\n",
    "print('Mean Score',scoread.mean()*100)\n",
    "print('\\n')\n",
    "\n",
    "print('GradientBoost')\n",
    "scoregd=cross_val_score(gb,x,y,cv=5)\n",
    "print('score', scoregd*100)\n",
    "print('Mean Score',scoregd.mean()*100)\n",
    "print('\\n')\n",
    "\n",
    "print('RandomForest')\n",
    "scorerd=cross_val_score(rd,x,y,cv=5)\n",
    "print('score', scorerd*100)\n",
    "print('Mean Score',scorerd.mean()*100)\n",
    "print('\\n')\n",
    "\n",
    "print('Bagging')\n",
    "scorebg=cross_val_score(bg,x,y,cv=5)\n",
    "print('score', scorebg*100)\n",
    "print('Mean Score',scorebg.mean()*100)\n",
    "print('\\n')\n",
    "\n",
    "print('Decision Tree')\n",
    "scoredtc=cross_val_score(dtc,x,y,cv=5)\n",
    "print('score', scoredtc*100)\n",
    "print('Mean Score',scoredtc.mean()*100)\n",
    "print('\\n')\n",
    "\n",
    "print('support vector')\n",
    "scoresvc=cross_val_score(svc,x,y,cv=5)\n",
    "print('score', scoresvc*100)\n",
    "print('Mean Score',scoresvc.mean()*100)\n",
    "print('\\n')\n",
    "\n",
    "print('Multinomial')\n",
    "scoremn=cross_val_score(mn,x,y,cv=5)\n",
    "print('score', scoremn*100)\n",
    "print('Mean Score',scoremn.mean()*100)\n",
    "print('\\n')\n",
    "\n",
    "print('Gaussion')\n",
    "scoregn=cross_val_score(gn,x,y,cv=5)\n",
    "print('score', scoregn*100)\n",
    "print('Mean Score',scoregn.mean()*100)\n",
    "print('\\n')"
   ]
  },
  {
   "cell_type": "markdown",
   "id": "0bba1557",
   "metadata": {},
   "source": [
    "After using the cross validation on the all the models ExtraTreesClassifier is best model other model are showing underfitting "
   ]
  },
  {
   "cell_type": "code",
   "execution_count": 101,
   "id": "fb7fa32c",
   "metadata": {},
   "outputs": [],
   "source": [
    "from sklearn.model_selection import GridSearchCV"
   ]
  },
  {
   "cell_type": "markdown",
   "id": "313094b6",
   "metadata": {},
   "source": [
    "import GridSearchCV for finding the best parameters to perform my model well"
   ]
  },
  {
   "cell_type": "code",
   "execution_count": 102,
   "id": "330ada5b",
   "metadata": {},
   "outputs": [
    {
     "data": {
      "text/plain": [
       "{'criterion': 'entropy',\n",
       " 'max_depth': 20,\n",
       " 'n_estimators': 100,\n",
       " 'n_jobs': -2,\n",
       " 'random_state': 50}"
      ]
     },
     "execution_count": 102,
     "metadata": {},
     "output_type": "execute_result"
    }
   ],
   "source": [
    "parameters={'criterion':['gini','entropy'],\n",
    "           'random_state':[10,50,1000],\n",
    "           'max_depth':[0,10,20],\n",
    "           'n_jobs':[-2,-1,1],\n",
    "           'n_estimators':[50,100,200,300]}\n",
    "\n",
    "GCV=GridSearchCV(ExtraTreesClassifier(),parameters,cv=5)\n",
    "\n",
    "GCV.fit(x_train,y_train)\n",
    "GCV.best_params_"
   ]
  },
  {
   "cell_type": "markdown",
   "id": "426427c7",
   "metadata": {},
   "source": [
    "searching for the best parameters"
   ]
  },
  {
   "cell_type": "code",
   "execution_count": 103,
   "id": "c3fba9f9",
   "metadata": {},
   "outputs": [],
   "source": [
    "model=ExtraTreesClassifier(criterion='entropy',max_depth=20,random_state=50,n_estimators=100,n_jobs=-2)"
   ]
  },
  {
   "cell_type": "markdown",
   "id": "c78624b5",
   "metadata": {},
   "source": [
    "adding the GridSearchCV parameters to my model "
   ]
  },
  {
   "cell_type": "code",
   "execution_count": 104,
   "id": "16bb52b9",
   "metadata": {},
   "outputs": [
    {
     "name": "stdout",
     "output_type": "stream",
     "text": [
      "accuracy_score : 89.6969696969697\n"
     ]
    }
   ],
   "source": [
    "model.fit(x_train,y_train)\n",
    "pred=model.predict(x_test)\n",
    "print('accuracy_score :',accuracy_score(y_test,pred)*100)"
   ]
  },
  {
   "cell_type": "markdown",
   "id": "07aa063b",
   "metadata": {},
   "source": [
    "final model with the best performing parameters "
   ]
  },
  {
   "cell_type": "code",
   "execution_count": 105,
   "id": "43730a2d",
   "metadata": {},
   "outputs": [],
   "source": [
    "import pickle\n",
    "filename='titan.model'\n",
    "pickle.dump(model,open(filename,'wb'))"
   ]
  },
  {
   "cell_type": "markdown",
   "id": "9789eef8",
   "metadata": {},
   "source": [
    "importing the pickle lybrary to dump the final model"
   ]
  },
  {
   "cell_type": "code",
   "execution_count": 107,
   "id": "75aac5d2",
   "metadata": {},
   "outputs": [
    {
     "data": {
      "text/plain": [
       "89.6969696969697"
      ]
     },
     "execution_count": 107,
     "metadata": {},
     "output_type": "execute_result"
    }
   ],
   "source": [
    "final_model=pickle.load(open('titan.model','rb'))\n",
    "final_model.score(x_test,y_test)*100"
   ]
  },
  {
   "cell_type": "markdown",
   "id": "b94a5ada",
   "metadata": {},
   "source": [
    "Loading the saved model from my jupyter notebook"
   ]
  },
  {
   "cell_type": "markdown",
   "id": "fc47e902",
   "metadata": {},
   "source": [
    "Conclusion : ExtraTreesClassifier is the best model to predict the survival "
   ]
  },
  {
   "cell_type": "code",
   "execution_count": null,
   "id": "3f4e2dc1",
   "metadata": {},
   "outputs": [],
   "source": []
  }
 ],
 "metadata": {
  "kernelspec": {
   "display_name": "Python 3 (ipykernel)",
   "language": "python",
   "name": "python3"
  },
  "language_info": {
   "codemirror_mode": {
    "name": "ipython",
    "version": 3
   },
   "file_extension": ".py",
   "mimetype": "text/x-python",
   "name": "python",
   "nbconvert_exporter": "python",
   "pygments_lexer": "ipython3",
   "version": "3.9.12"
  }
 },
 "nbformat": 4,
 "nbformat_minor": 5
}
